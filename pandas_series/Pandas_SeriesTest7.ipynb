{
 "cells": [
  {
   "cell_type": "code",
   "execution_count": 80,
   "metadata": {},
   "outputs": [],
   "source": [
    "import pandas as pd\n",
    "import numpy as np\n",
    "import matplotlib.pyplot as plt # 시각화 지원\n",
    "import matplotlib\n",
    "matplotlib.rcParams['font.family']='Malgun Gothic'\n",
    "matplotlib.rcParams['axes.unicode_minus']=False"
   ]
  },
  {
   "cell_type": "code",
   "execution_count": 4,
   "metadata": {},
   "outputs": [
    {
     "data": {
      "text/plain": [
       "a    10\n",
       "b    20\n",
       "c    30\n",
       "d    40\n",
       "e    50\n",
       "Name: 파이썬 점수, dtype: int64"
      ]
     },
     "execution_count": 4,
     "metadata": {},
     "output_type": "execute_result"
    }
   ],
   "source": [
    "# 데이터 인덱스 설정, 데이터 타입 변경, 라벨링 작성\n",
    "sr=pd.Series([10,20,30,40,50],index=['a','b','c','d','e'], name='파이썬 점수')\n",
    "sr"
   ]
  },
  {
   "cell_type": "code",
   "execution_count": 5,
   "metadata": {},
   "outputs": [],
   "source": [
    "# 통계 관련"
   ]
  },
  {
   "cell_type": "code",
   "execution_count": 7,
   "metadata": {},
   "outputs": [
    {
     "data": {
      "text/plain": [
       "50"
      ]
     },
     "execution_count": 7,
     "metadata": {},
     "output_type": "execute_result"
    }
   ],
   "source": [
    "# 최대값\n",
    "sr.max()"
   ]
  },
  {
   "cell_type": "code",
   "execution_count": 9,
   "metadata": {},
   "outputs": [
    {
     "data": {
      "text/plain": [
       "'e'"
      ]
     },
     "execution_count": 9,
     "metadata": {},
     "output_type": "execute_result"
    }
   ],
   "source": [
    "# 가장 큰값의 인덱스 출력\n",
    "sr.idxmax()"
   ]
  },
  {
   "cell_type": "code",
   "execution_count": 10,
   "metadata": {},
   "outputs": [
    {
     "data": {
      "text/plain": [
       "10"
      ]
     },
     "execution_count": 10,
     "metadata": {},
     "output_type": "execute_result"
    }
   ],
   "source": [
    "# 최소값\n",
    "sr.min()"
   ]
  },
  {
   "cell_type": "code",
   "execution_count": 12,
   "metadata": {},
   "outputs": [
    {
     "data": {
      "text/plain": [
       "150"
      ]
     },
     "execution_count": 12,
     "metadata": {},
     "output_type": "execute_result"
    }
   ],
   "source": [
    "# 합\n",
    "sr.sum()"
   ]
  },
  {
   "cell_type": "code",
   "execution_count": 14,
   "metadata": {},
   "outputs": [
    {
     "data": {
      "text/plain": [
       "30.0"
      ]
     },
     "execution_count": 14,
     "metadata": {},
     "output_type": "execute_result"
    }
   ],
   "source": [
    "# 평균\n",
    "sr.mean()"
   ]
  },
  {
   "cell_type": "code",
   "execution_count": 16,
   "metadata": {},
   "outputs": [
    {
     "data": {
      "text/plain": [
       "30.0"
      ]
     },
     "execution_count": 16,
     "metadata": {},
     "output_type": "execute_result"
    }
   ],
   "source": [
    "# 리스트의 중간값, 값의 갯수가 짝수개이면 가운데 값을 더한 후 2로 나눔\n",
    "sr.median()"
   ]
  },
  {
   "cell_type": "code",
   "execution_count": 20,
   "metadata": {},
   "outputs": [
    {
     "data": {
      "text/plain": [
       "0.25    20.0\n",
       "0.50    30.0\n",
       "0.75    40.0\n",
       "Name: 파이썬 점수, dtype: float64"
      ]
     },
     "execution_count": 20,
     "metadata": {},
     "output_type": "execute_result"
    }
   ],
   "source": [
    "# 데이터를 정렳했을때 ()안 퍼센트에 해당하는 값 출력 \n",
    "# 0.25와 0.75는 중요 (이상치를 뺀 값이기 때문에)\n",
    "\n",
    "sr.quantile([0.25,0.5,0.75])"
   ]
  },
  {
   "cell_type": "code",
   "execution_count": 22,
   "metadata": {},
   "outputs": [
    {
     "data": {
      "text/plain": [
       "15.811388300841896"
      ]
     },
     "execution_count": 22,
     "metadata": {},
     "output_type": "execute_result"
    }
   ],
   "source": [
    "# 표준편차 (개별 데이터를 평균 값으로 뺀후)\n",
    "# 적을수록 골고루 분포 되어있다.\n",
    "\n",
    "sr.std()"
   ]
  },
  {
   "cell_type": "code",
   "execution_count": 24,
   "metadata": {},
   "outputs": [
    {
     "data": {
      "text/plain": [
       "5"
      ]
     },
     "execution_count": 24,
     "metadata": {},
     "output_type": "execute_result"
    }
   ],
   "source": [
    "# 데이터의 갯수\n",
    "sr.count()"
   ]
  },
  {
   "cell_type": "code",
   "execution_count": 29,
   "metadata": {},
   "outputs": [
    {
     "data": {
      "text/plain": [
       "a    10\n",
       "b    20\n",
       "c    50\n",
       "d    40\n",
       "e    50\n",
       "Name: 파이썬 점수, dtype: int64"
      ]
     },
     "execution_count": 29,
     "metadata": {},
     "output_type": "execute_result"
    }
   ],
   "source": [
    "sr['c']=50\n",
    "sr"
   ]
  },
  {
   "cell_type": "code",
   "execution_count": 31,
   "metadata": {},
   "outputs": [
    {
     "data": {
      "text/plain": [
       "array([10, 20, 50, 40], dtype=int64)"
      ]
     },
     "execution_count": 31,
     "metadata": {},
     "output_type": "execute_result"
    }
   ],
   "source": [
    "# 중복 데이터를 제거하고 중복된 데이터 하나만 출력\n",
    "sr.unique()"
   ]
  },
  {
   "cell_type": "code",
   "execution_count": 34,
   "metadata": {},
   "outputs": [
    {
     "data": {
      "text/plain": [
       "50    2\n",
       "20    1\n",
       "10    1\n",
       "40    1\n",
       "Name: 파이썬 점수, dtype: int64"
      ]
     },
     "execution_count": 34,
     "metadata": {},
     "output_type": "execute_result"
    }
   ],
   "source": [
    "# 해당 값의 갯수\n",
    "sr.value_counts()"
   ]
  },
  {
   "cell_type": "code",
   "execution_count": 37,
   "metadata": {},
   "outputs": [
    {
     "data": {
      "text/plain": [
       "a     (0, 30]\n",
       "b     (0, 30]\n",
       "c    (30, 50]\n",
       "d    (30, 50]\n",
       "e    (30, 50]\n",
       "Name: 파이썬 점수, dtype: category\n",
       "Categories (3, interval[int64]): [(0, 30] < (30, 50] < (50, 100]]"
      ]
     },
     "execution_count": 37,
     "metadata": {},
     "output_type": "execute_result"
    }
   ],
   "source": [
    "# 카테고리 \n",
    "# 값이 속하는 카테고리를 나타내줌\n",
    "# 0보다 크고 30보다 작거나 같다\n",
    "# 30보다 크고 50보다 작거나 같다\n",
    "# 50보다 크고 100보다 작거나 같다\n",
    "\n",
    "pd.cut(sr,[0,30,50,100] )"
   ]
  },
  {
   "cell_type": "code",
   "execution_count": 43,
   "metadata": {},
   "outputs": [
    {
     "data": {
      "text/plain": [
       "(50, 100]    0\n",
       "(0, 30]      2\n",
       "(30, 50]     3\n",
       "Name: 파이썬 점수, dtype: int64"
      ]
     },
     "execution_count": 43,
     "metadata": {},
     "output_type": "execute_result"
    }
   ],
   "source": [
    "# 카테고리 \n",
    "# 값이 속하는 카테고리를 나타내줌\n",
    "# 0보다 크고 30보다 작거나 같다\n",
    "# 30보다 크고 50보다 작거나 같다\n",
    "# 50보다 크고 100보다 작거나 같다\n",
    "\n",
    "pd.cut(sr,[0,30,50,100]).value_counts(ascending=True) # 도수 분표"
   ]
  },
  {
   "cell_type": "code",
   "execution_count": 48,
   "metadata": {},
   "outputs": [
    {
     "data": {
      "text/plain": [
       "a    C\n",
       "b    C\n",
       "c    B\n",
       "d    B\n",
       "e    B\n",
       "Name: 파이썬 점수, dtype: category\n",
       "Categories (3, object): [C < B < A]"
      ]
     },
     "execution_count": 48,
     "metadata": {},
     "output_type": "execute_result"
    }
   ],
   "source": [
    "# 카테고리 \n",
    "# 값이 속하는 카테고리를 나타내줌\n",
    "# 0보다 크고 30보다 작거나 같다 = 'C'\n",
    "# 30보다 크고 50보다 작거나 같다 = 'B'\n",
    "# 50보다 크고 100보다 작거나 같다 = 'A'\n",
    "\n",
    "pd.cut(sr,[0,30,50,100],labels=['C','B','A']) # 해당하는 카테고리의 이름을 나타냄"
   ]
  },
  {
   "cell_type": "code",
   "execution_count": 52,
   "metadata": {},
   "outputs": [],
   "source": [
    "def fn(v):\n",
    "    print('v=',v)\n",
    "    return v+1"
   ]
  },
  {
   "cell_type": "code",
   "execution_count": 53,
   "metadata": {},
   "outputs": [
    {
     "name": "stdout",
     "output_type": "stream",
     "text": [
      "v= 10\n",
      "v= 20\n",
      "v= 50\n",
      "v= 40\n",
      "v= 50\n"
     ]
    },
    {
     "data": {
      "text/plain": [
       "a    11\n",
       "b    21\n",
       "c    51\n",
       "d    41\n",
       "e    51\n",
       "Name: 파이썬 점수, dtype: int64"
      ]
     },
     "execution_count": 53,
     "metadata": {},
     "output_type": "execute_result"
    }
   ],
   "source": [
    "sr.apply(fn)"
   ]
  },
  {
   "cell_type": "code",
   "execution_count": 59,
   "metadata": {},
   "outputs": [],
   "source": [
    "def fb(v):\n",
    "    #print('v=',v)\n",
    "    if v<=30:\n",
    "        return v+2\n",
    "    else:\n",
    "        return v+1"
   ]
  },
  {
   "cell_type": "code",
   "execution_count": 60,
   "metadata": {},
   "outputs": [
    {
     "data": {
      "text/plain": [
       "a    12\n",
       "b    22\n",
       "c    51\n",
       "d    41\n",
       "e    51\n",
       "Name: 파이썬 점수, dtype: int64"
      ]
     },
     "execution_count": 60,
     "metadata": {},
     "output_type": "execute_result"
    }
   ],
   "source": [
    "sr.apply(fb)"
   ]
  },
  {
   "cell_type": "code",
   "execution_count": 63,
   "metadata": {},
   "outputs": [],
   "source": [
    "def fc(v):\n",
    "    return v+3 if v<=30 else v+1"
   ]
  },
  {
   "cell_type": "code",
   "execution_count": 65,
   "metadata": {},
   "outputs": [
    {
     "data": {
      "text/plain": [
       "a    13\n",
       "b    23\n",
       "c    51\n",
       "d    41\n",
       "e    51\n",
       "Name: 파이썬 점수, dtype: int64"
      ]
     },
     "execution_count": 65,
     "metadata": {},
     "output_type": "execute_result"
    }
   ],
   "source": [
    "sr.apply(fc)"
   ]
  },
  {
   "cell_type": "code",
   "execution_count": 67,
   "metadata": {},
   "outputs": [
    {
     "data": {
      "text/plain": [
       "a    12\n",
       "b    22\n",
       "c    51\n",
       "d    41\n",
       "e    51\n",
       "Name: 파이썬 점수, dtype: int64"
      ]
     },
     "execution_count": 67,
     "metadata": {},
     "output_type": "execute_result"
    }
   ],
   "source": [
    "# lambda\n",
    "sr.apply(lambda v:v+2 if v<=30 else v+1)"
   ]
  },
  {
   "cell_type": "code",
   "execution_count": 70,
   "metadata": {},
   "outputs": [
    {
     "data": {
      "text/plain": [
       "a    12\n",
       "b    22\n",
       "c    51\n",
       "d    41\n",
       "e    51\n",
       "Name: 파이썬 점수, dtype: int64"
      ]
     },
     "execution_count": 70,
     "metadata": {},
     "output_type": "execute_result"
    }
   ],
   "source": [
    "# spark에서는 apply 대신 map 사용\n",
    "sr.map(lambda v:v+2 if v<=30 else v+1)"
   ]
  },
  {
   "cell_type": "code",
   "execution_count": 72,
   "metadata": {},
   "outputs": [],
   "source": [
    "# 차트 관련"
   ]
  },
  {
   "cell_type": "code",
   "execution_count": 86,
   "metadata": {},
   "outputs": [
    {
     "data": {
      "image/png": "[encoded data removed]",
      "text/plain": [
       "<Figure size 720x720 with 1 Axes>"
      ]
     },
     "metadata": {
      "needs_background": "light"
     },
     "output_type": "display_data"
    }
   ],
   "source": [
    "# plot(kind='') 다양한 그래프로 출력가능\n",
    "#plot(pigsize=(4,4)) 그래프 크기 조절\n",
    "# grid =True      격자 생성\n",
    "# title='성적 데이터'   그래프 제목 생성\n",
    "# legend=True     해당하는 그래프가 무엇을 의미하는지 나타냄\n",
    "# ylim=(0,100)   y축의 값을 설정\n",
    " \n",
    "sr.plot(kind='bar',figsize=(10,10),title='성적 데이터',grid =True, legend=True, ylim=(0,100)) # 램 메모리에 그림,   \n",
    "plt.show() # 램 메모리에 그린 그림을 화면 메모리에 출력"
   ]
  },
  {
   "cell_type": "code",
   "execution_count": 88,
   "metadata": {},
   "outputs": [
    {
     "name": "stdout",
     "output_type": "stream",
     "text": [
      "10\n",
      "20\n",
      "50\n",
      "40\n",
      "50\n"
     ]
    }
   ],
   "source": [
    "# 값만 출력\n",
    "for n in sr: \n",
    "    print(n)"
   ]
  },
  {
   "cell_type": "code",
   "execution_count": 89,
   "metadata": {},
   "outputs": [
    {
     "name": "stdout",
     "output_type": "stream",
     "text": [
      "('a', 10)\n",
      "('b', 20)\n",
      "('c', 50)\n",
      "('d', 40)\n",
      "('e', 50)\n"
     ]
    }
   ],
   "source": [
    "#.items() 튜플형식으로 키와 값이 출력\n",
    "for n in sr.items(): \n",
    "    print(n)"
   ]
  }
 ],
 "metadata": {
  "kernelspec": {
   "display_name": "Python 3",
   "language": "python",
   "name": "python3"
  },
  "language_info": {
   "codemirror_mode": {
    "name": "ipython",
    "version": 3
   },
   "file_extension": ".py",
   "mimetype": "text/x-python",
   "name": "python",
   "nbconvert_exporter": "python",
   "pygments_lexer": "ipython3",
   "version": "3.7.6"
  }
 },
 "nbformat": 4,
 "nbformat_minor": 4
}
