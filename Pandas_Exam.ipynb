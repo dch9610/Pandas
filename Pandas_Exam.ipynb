{
 "cells": [
  {
   "cell_type": "code",
   "execution_count": 2,
   "metadata": {},
   "outputs": [],
   "source": [
    "import pandas as pd\n",
    "import numpy as np\n",
    "import matplotlib.pyplot as plt # 시각화 지원\n",
    "import matplotlib\n",
    "matplotlib.rcParams['font.family']='Malgun Gothic'\n",
    "matplotlib.rcParams['axes.unicode_minus']=False"
   ]
  },
  {
   "cell_type": "code",
   "execution_count": 3,
   "metadata": {},
   "outputs": [
    {
     "data": {
      "text/plain": [
       "홍길동     90.0\n",
       "이순신     90.0\n",
       "임꺽정     55.0\n",
       "정난정     60.0\n",
       "이이      76.0\n",
       "이황      80.0\n",
       "정도전     76.0\n",
       "김철수1    88.0\n",
       "김철수2    30.0\n",
       "김철수3    25.0\n",
       "Name: 국어점수, dtype: float64"
      ]
     },
     "execution_count": 3,
     "metadata": {},
     "output_type": "execute_result"
    }
   ],
   "source": [
    "# 데이터 인덱스 설정, 데이터 타입 변경, 라벨링 작성\n",
    "sr= pd.Series( [90,90,55,60,76,80,76,88,30,25],name=\"국어점수\",dtype='float64')\n",
    "sr.index=['홍길동','이순신','임꺽정','정난정','이이','이황','정도전','김철수1','김철수2','김철수3']\n",
    "sr\n"
   ]
  },
  {
   "cell_type": "code",
   "execution_count": 12,
   "metadata": {},
   "outputs": [
    {
     "data": {
      "text/plain": [
       "90"
      ]
     },
     "execution_count": 12,
     "metadata": {},
     "output_type": "execute_result"
    }
   ],
   "source": [
    "# 1. 국어점수가 가장큰값을 구하시요\n",
    "sr.max()"
   ]
  },
  {
   "cell_type": "code",
   "execution_count": 23,
   "metadata": {},
   "outputs": [
    {
     "data": {
      "text/plain": [
       "'홍길동'"
      ]
     },
     "execution_count": 23,
     "metadata": {},
     "output_type": "execute_result"
    }
   ],
   "source": [
    "# 2. 국어점수가 가장큰값의 이름을 구하시요\n",
    "sr.idxmax()"
   ]
  },
  {
   "cell_type": "code",
   "execution_count": 102,
   "metadata": {},
   "outputs": [
    {
     "data": {
      "text/plain": [
       "홍길동     90.0\n",
       "이순신     90.0\n",
       "이황      80.0\n",
       "김철수1    88.0\n",
       "Name: 국어점수, dtype: float64"
      ]
     },
     "execution_count": 102,
     "metadata": {},
     "output_type": "execute_result"
    }
   ],
   "source": [
    "# 3. 국어점수가 80점이상인 값을 구하시요\n",
    "sr[sr>=80]\n"
   ]
  },
  {
   "cell_type": "code",
   "execution_count": 79,
   "metadata": {},
   "outputs": [
    {
     "data": {
      "text/plain": [
       "임꺽정    55\n",
       "정난정    60\n",
       "이이     76\n",
       "이황     80\n",
       "정도전    76\n",
       "Name: 국어점수, dtype: int64"
      ]
     },
     "execution_count": 79,
     "metadata": {},
     "output_type": "execute_result"
    }
   ],
   "source": [
    "# 4. 국어 점수가 50점이상 80점이하인 값을 구하시요\n",
    "sr[(sr>=50)&(sr<=80)]"
   ]
  },
  {
   "cell_type": "code",
   "execution_count": 45,
   "metadata": {},
   "outputs": [
    {
     "data": {
      "text/plain": [
       "김철수1    88\n",
       "김철수2    30\n",
       "김철수3    25\n",
       "Name: 국어점수, dtype: int64"
      ]
     },
     "execution_count": 45,
     "metadata": {},
     "output_type": "execute_result"
    }
   ],
   "source": [
    "# 5. 이름이 김으로 시작하는 데이터를 구하시요\n",
    "sr[sr.index.str.contains('^김')]"
   ]
  },
  {
   "cell_type": "code",
   "execution_count": 49,
   "metadata": {},
   "outputs": [
    {
     "data": {
      "text/plain": [
       "김철수1    88\n",
       "김철수2    30\n",
       "김철수3    25\n",
       "이순신     90\n",
       "이이      76\n",
       "이황      80\n",
       "임꺽정     55\n",
       "정난정     60\n",
       "정도전     76\n",
       "홍길동     90\n",
       "Name: 국어점수, dtype: int64"
      ]
     },
     "execution_count": 49,
     "metadata": {},
     "output_type": "execute_result"
    }
   ],
   "source": [
    "# 6. 이름순으로 정렬하시요\n",
    "sr.sort_index(inplace=True,ascending=True)\n",
    "sr"
   ]
  },
  {
   "cell_type": "code",
   "execution_count": 4,
   "metadata": {},
   "outputs": [
    {
     "name": "stdout",
     "output_type": "stream",
     "text": [
      "홍길동\n",
      "90.0\n"
     ]
    }
   ],
   "source": [
    "# 7. 키보드로 입력받아 검색된 이름의 점수를 구하시요\n",
    "\n",
    "name = input()\n",
    "if name in sr:\n",
    "    print(sr[name])\n",
    "else:\n",
    "    print(\"이름이 잘못되었습니다\")"
   ]
  },
  {
   "cell_type": "code",
   "execution_count": 62,
   "metadata": {},
   "outputs": [
    {
     "data": {
      "text/plain": [
       "김철수1    B\n",
       "김철수2    F\n",
       "김철수3    F\n",
       "이순신     A\n",
       "이이      C\n",
       "이황      B\n",
       "임꺽정     F\n",
       "정난정     D\n",
       "정도전     C\n",
       "홍길동     A\n",
       "Name: 국어점수, dtype: category\n",
       "Categories (5, object): [F < D < C < B < A]"
      ]
     },
     "execution_count": 62,
     "metadata": {},
     "output_type": "execute_result"
    }
   ],
   "source": [
    "# 8. 데이터를 다음과 같이 출력하시요\n",
    "\n",
    "# (0~59:F , 60~69:D, 70~79:C, 80~89:B, 90~100:A\n",
    "# ------------------------\n",
    "#     이름    국어   학점\n",
    "# ------------------------\n",
    "#     홍길동  70     C\n",
    "#     ...\n",
    "#     김철수3 25     F\n",
    "\n",
    "pd.cut(sr,[0,59,69,79,89,100] ,labels=['F','D','C','B','A'])"
   ]
  },
  {
   "cell_type": "code",
   "execution_count": 64,
   "metadata": {},
   "outputs": [
    {
     "data": {
      "text/plain": [
       "김철수1     98\n",
       "김철수2     40\n",
       "김철수3     35\n",
       "이순신     100\n",
       "이이       86\n",
       "이황       90\n",
       "임꺽정      65\n",
       "정난정      70\n",
       "정도전      86\n",
       "홍길동     100\n",
       "Name: 국어점수, dtype: int64"
      ]
     },
     "execution_count": 64,
     "metadata": {},
     "output_type": "execute_result"
    }
   ],
   "source": [
    "# 9. 국어 점수 100점이하는 가산점10를 부여하고\n",
    "#    국어 점수 70점이하는 가산점20를 부여하고\n",
    "#    국어 점수 50점이하는 가산점30를 부여하시요\n",
    "\n",
    "def fn(v):\n",
    "    if v<=100:\n",
    "        return v+10\n",
    "    elif v<=70:\n",
    "        return v+20\n",
    "    elif v<=50:\n",
    "        return v+30\n",
    "    \n",
    "sr.apply(fn)"
   ]
  },
  {
   "cell_type": "code",
   "execution_count": 91,
   "metadata": {},
   "outputs": [
    {
     "data": {
      "text/plain": [
       "정난정    60.0\n",
       "이이     76.0\n",
       "이황     80.0\n",
       "정도전    76.0\n",
       "Name: 국어점수, dtype: float64"
      ]
     },
     "execution_count": 91,
     "metadata": {},
     "output_type": "execute_result"
    }
   ],
   "source": [
    "# 10. 국어점수 25%~75% 사이에 해당하는 값을 구하시요\n",
    "\n",
    "sr.quantile([0.25,0.75])\n",
    "sr[(sr>=56.25)&(sr<=86.00)]"
   ]
  },
  {
   "cell_type": "code",
   "execution_count": null,
   "metadata": {},
   "outputs": [],
   "source": [
    "# 11. 각 국어점수에 대한 갯수 를 구하시요.\n",
    "sr.value_counts()"
   ]
  },
  {
   "cell_type": "code",
   "execution_count": 101,
   "metadata": {},
   "outputs": [
    {
     "data": {
      "image/png": "[encoded data removed]",
      "text/plain": [
       "<Figure size 432x288 with 1 Axes>"
      ]
     },
     "metadata": {
      "needs_background": "light"
     },
     "output_type": "display_data"
    }
   ],
   "source": [
    "#  12. 국어 점수를 10개로 분할한 경우 각 점수별 도수를 구하고 도수분포표를 그리시요\n",
    "pd.cut(sr,10)\n",
    "sr.plot(xlim=(0,10))\n",
    "plt.show()"
   ]
  },
  {
   "cell_type": "code",
   "execution_count": 80,
   "metadata": {},
   "outputs": [
    {
     "data": {
      "image/png": "[encoded data removed]",
      "text/plain": [
       "<Figure size 432x432 with 1 Axes>"
      ]
     },
     "metadata": {},
     "output_type": "display_data"
    }
   ],
   "source": [
    "# 13. 국어점수 50점이하 점수에 대한 파이차트로 그리시요\n",
    "sr=sr[sr<=50]\n",
    "sr.plot(kind='pie',figsize=(6,6),title='국어 점수') # 램 메모리에 그림,   \n",
    "plt.show() # 램 메모리에 그린 그림을 화면 메모리에 출력"
   ]
  },
  {
   "cell_type": "code",
   "execution_count": null,
   "metadata": {},
   "outputs": [],
   "source": [
    "#14. 아래처럼 출력하시요\n",
    "# (힌트: 성과 이름이 분리된 시리즈를 구하고 zip 을이용 )\n",
    "# ------------------------\n",
    "#   성     이름    국어\n",
    "# ------------------------\n",
    "#   홍     길동    70\t \n",
    "#     ...\n",
    "#   김     철수3   25    \n",
    "\n",
    "\n",
    "\n",
    "\n",
    "\n",
    "\n",
    "\n",
    "\n",
    "\n",
    "\n",
    "\n"
   ]
  }
 ],
 "metadata": {
  "kernelspec": {
   "display_name": "Python 3",
   "language": "python",
   "name": "python3"
  },
  "language_info": {
   "codemirror_mode": {
    "name": "ipython",
    "version": 3
   },
   "file_extension": ".py",
   "mimetype": "text/x-python",
   "name": "python",
   "nbconvert_exporter": "python",
   "pygments_lexer": "ipython3",
   "version": "3.7.6"
  }
 },
 "nbformat": 4,
 "nbformat_minor": 4
}
