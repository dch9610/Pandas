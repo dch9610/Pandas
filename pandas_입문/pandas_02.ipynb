{
 "metadata": {
  "language_info": {
   "codemirror_mode": {
    "name": "ipython",
    "version": 3
   },
   "file_extension": ".py",
   "mimetype": "text/x-python",
   "name": "python",
   "nbconvert_exporter": "python",
   "pygments_lexer": "ipython3",
   "version": "3.8.5-final"
  },
  "orig_nbformat": 2,
  "kernelspec": {
   "name": "python3",
   "display_name": "Python 3",
   "language": "python"
  }
 },
 "nbformat": 4,
 "nbformat_minor": 2,
 "cells": [
  {
   "cell_type": "code",
   "execution_count": 1,
   "metadata": {},
   "outputs": [],
   "source": [
    "import pandas as pd"
   ]
  },
  {
   "source": [
    "### 시리즈 만들기"
   ],
   "cell_type": "markdown",
   "metadata": {}
  },
  {
   "cell_type": "code",
   "execution_count": 2,
   "metadata": {},
   "outputs": [
    {
     "output_type": "stream",
     "name": "stdout",
     "text": [
      "0    banana\n1        42\ndtype: object\n"
     ]
    }
   ],
   "source": [
    "## 시리즈 만들기\n",
    "s = pd.Series(['banana',42])\n",
    "print(s)"
   ]
  },
  {
   "cell_type": "code",
   "execution_count": 6,
   "metadata": {},
   "outputs": [
    {
     "output_type": "stream",
     "name": "stdout",
     "text": [
      "person     apple\nWho       banana\ndtype: object\n"
     ]
    }
   ],
   "source": [
    "## 시리즈를 생성할때 문자열을 인덱스로 지정할수도 있다.\n",
    "s=pd.Series(['apple','banana'], index=['person','Who'])\n",
    "print(s)"
   ]
  },
  {
   "source": [
    "### 데이터프레임 만들기"
   ],
   "cell_type": "markdown",
   "metadata": {}
  },
  {
   "cell_type": "code",
   "execution_count": 9,
   "metadata": {},
   "outputs": [
    {
     "output_type": "execute_result",
     "data": {
      "text/plain": [
       "       Name  age      Born\n",
       "0  Rosaline   30  20-12-21\n",
       "1       Lee   25  96-10-22"
      ],
      "text/html": "<div>\n<style scoped>\n    .dataframe tbody tr th:only-of-type {\n        vertical-align: middle;\n    }\n\n    .dataframe tbody tr th {\n        vertical-align: top;\n    }\n\n    .dataframe thead th {\n        text-align: right;\n    }\n</style>\n<table border=\"1\" class=\"dataframe\">\n  <thead>\n    <tr style=\"text-align: right;\">\n      <th></th>\n      <th>Name</th>\n      <th>age</th>\n      <th>Born</th>\n    </tr>\n  </thead>\n  <tbody>\n    <tr>\n      <th>0</th>\n      <td>Rosaline</td>\n      <td>30</td>\n      <td>20-12-21</td>\n    </tr>\n    <tr>\n      <th>1</th>\n      <td>Lee</td>\n      <td>25</td>\n      <td>96-10-22</td>\n    </tr>\n  </tbody>\n</table>\n</div>"
     },
     "metadata": {},
     "execution_count": 9
    }
   ],
   "source": [
    "scientists = pd.DataFrame({\n",
    "    'Name':['Rosaline','Lee'],\n",
    "    'age' :[30,25],\n",
    "    'Born':['20-12-21','96-10-22']\n",
    "})\n",
    "scientists"
   ]
  },
  {
   "cell_type": "code",
   "execution_count": 10,
   "metadata": {},
   "outputs": [
    {
     "output_type": "execute_result",
     "data": {
      "text/plain": [
       "         age      Name      Born\n",
       "Rosa      30  Rosaline  20-12-21\n",
       "William   25       Lee  96-10-22"
      ],
      "text/html": "<div>\n<style scoped>\n    .dataframe tbody tr th:only-of-type {\n        vertical-align: middle;\n    }\n\n    .dataframe tbody tr th {\n        vertical-align: top;\n    }\n\n    .dataframe thead th {\n        text-align: right;\n    }\n</style>\n<table border=\"1\" class=\"dataframe\">\n  <thead>\n    <tr style=\"text-align: right;\">\n      <th></th>\n      <th>age</th>\n      <th>Name</th>\n      <th>Born</th>\n    </tr>\n  </thead>\n  <tbody>\n    <tr>\n      <th>Rosa</th>\n      <td>30</td>\n      <td>Rosaline</td>\n      <td>20-12-21</td>\n    </tr>\n    <tr>\n      <th>William</th>\n      <td>25</td>\n      <td>Lee</td>\n      <td>96-10-22</td>\n    </tr>\n  </tbody>\n</table>\n</div>"
     },
     "metadata": {},
     "execution_count": 10
    }
   ],
   "source": [
    "# 인덱스를 따로 지정하려면 index 인자에 리스트를 전달\n",
    "# columns 인자를 사용하면 데이터프레임의 열 순서를 지정할 수 있다.\n",
    "scientists = pd.DataFrame(\n",
    "    data = {\n",
    "    'Name':['Rosaline','Lee'],\n",
    "    'age' :[30,25],\n",
    "    'Born':['20-12-21','96-10-22']\n",
    "            },\n",
    "    index=['Rosa','William'],\n",
    "    columns=['age','Name','Born']\n",
    ")\n",
    "scientists"
   ]
  },
  {
   "cell_type": "code",
   "execution_count": 14,
   "metadata": {},
   "outputs": [
    {
     "output_type": "execute_result",
     "data": {
      "text/plain": [
       "  Name  age      Born\n",
       "0  Lee   25  96-10-22\n",
       "1  Kim   22  99-06-23"
      ],
      "text/html": "<div>\n<style scoped>\n    .dataframe tbody tr th:only-of-type {\n        vertical-align: middle;\n    }\n\n    .dataframe tbody tr th {\n        vertical-align: top;\n    }\n\n    .dataframe thead th {\n        text-align: right;\n    }\n</style>\n<table border=\"1\" class=\"dataframe\">\n  <thead>\n    <tr style=\"text-align: right;\">\n      <th></th>\n      <th>Name</th>\n      <th>age</th>\n      <th>Born</th>\n    </tr>\n  </thead>\n  <tbody>\n    <tr>\n      <th>0</th>\n      <td>Lee</td>\n      <td>25</td>\n      <td>96-10-22</td>\n    </tr>\n    <tr>\n      <th>1</th>\n      <td>Kim</td>\n      <td>22</td>\n      <td>99-06-23</td>\n    </tr>\n  </tbody>\n</table>\n</div>"
     },
     "metadata": {},
     "execution_count": 14
    }
   ],
   "source": [
    "# 순서가 보장된 딕셔너리를 전달하려면 OrderDict를 사용해야함\n",
    "# 데이터 순서를 그대로 유지하면서 데이터프레임을 만들수 있음\n",
    "from collections import OrderedDict\n",
    "\n",
    "scientists = pd.DataFrame(OrderedDict([\n",
    "    ('Name',['Lee','Kim']),\n",
    "    ('age',[25,22]),\n",
    "    ('Born',['96-10-22','99-06-23'])\n",
    "])\n",
    ")\n",
    "scientists"
   ]
  },
  {
   "source": [
    "### 시리즈 다루기 - 기초"
   ],
   "cell_type": "markdown",
   "metadata": {}
  },
  {
   "cell_type": "code",
   "execution_count": 83,
   "metadata": {},
   "outputs": [
    {
     "output_type": "stream",
     "name": "stdout",
     "text": [
      "Index(['age', 'Name', 'Born'], dtype='object')\n"
     ]
    }
   ],
   "source": [
    "scientists = pd.DataFrame(\n",
    "    data = {\n",
    "    'Name':['Rosaline','Lee'],\n",
    "    'age' :[30,25],\n",
    "    'Born':['20-12-21','96-10-22']\n",
    "            },\n",
    "    index=['Rosa','William'],\n",
    "    columns=['age','Name','Born']\n",
    ")\n",
    "print(scientists.columns)"
   ]
  },
  {
   "cell_type": "code",
   "execution_count": 19,
   "metadata": {},
   "outputs": [
    {
     "output_type": "stream",
     "name": "stdout",
     "text": [
      "<class 'pandas.core.series.Series'>\nage           30\nName    Rosaline\nBorn    20-12-21\nName: Rosa, dtype: object\n"
     ]
    }
   ],
   "source": [
    "# 시리즈를 선택하려면 loc 속성에 인덱스를 전달\n",
    "first_row = scientists.loc['Rosa']\n",
    "print(type(first_row))\n",
    "print(first_row)"
   ]
  },
  {
   "source": [
    "#### index, values 속성과 keys 메서드 사용하기"
   ],
   "cell_type": "markdown",
   "metadata": {}
  },
  {
   "cell_type": "code",
   "execution_count": 82,
   "metadata": {},
   "outputs": [
    {
     "output_type": "stream",
     "name": "stdout",
     "text": [
      "Index(['age', 'Name', 'Born'], dtype='object')\n[30 'Rosaline' '20-12-21']\nIndex(['age', 'Name', 'Born'], dtype='object')\n"
     ]
    }
   ],
   "source": [
    "print(first_row.index) # 시리즈의 인덱스가 들어 있음\n",
    "print(first_row.values) # 시리즈의 데이터가 저장\n",
    "print(first_row.keys()) # index와 같은 기능을함"
   ]
  },
  {
   "cell_type": "code",
   "execution_count": 24,
   "metadata": {},
   "outputs": [
    {
     "output_type": "stream",
     "name": "stdout",
     "text": [
      "age\nage\n"
     ]
    }
   ],
   "source": [
    "## index, keys 속성 응용하기\n",
    "print(first_row.index[0])\n",
    "print(first_row.keys()[0])"
   ]
  },
  {
   "source": [
    "### 시리즈의 기초 통계 메서드 사용하기"
   ],
   "cell_type": "markdown",
   "metadata": {}
  },
  {
   "cell_type": "code",
   "execution_count": 25,
   "metadata": {},
   "outputs": [
    {
     "output_type": "stream",
     "name": "stdout",
     "text": [
      "Rosa       30\nWilliam    25\nName: age, dtype: int64\n"
     ]
    }
   ],
   "source": [
    "ages = scientists['age']\n",
    "print(ages)"
   ]
  },
  {
   "cell_type": "code",
   "execution_count": 27,
   "metadata": {},
   "outputs": [
    {
     "output_type": "stream",
     "name": "stdout",
     "text": [
      "27.5\n25\n30\n3.5355339059327378\n"
     ]
    }
   ],
   "source": [
    "print(ages.mean()) # 평균\n",
    "print(ages.min()) # 최소\n",
    "print(ages.max()) # 최대\n",
    "print(ages.std()) # 표준편차"
   ]
  },
  {
   "source": [
    "### 시리즈 메서드 정리"
   ],
   "cell_type": "markdown",
   "metadata": {}
  },
  {
   "cell_type": "code",
   "execution_count": null,
   "metadata": {},
   "outputs": [],
   "source": [
    "# append : 2개 이상의 시리즈 연결\n",
    "# describe : 요약 통계량 계산\n",
    "# drop_duplicates : 중복값이 없는 시리즈 변환\n",
    "# equals : 시리즈에 해당 값을 가진 요소가 있는지 확인\n",
    "# get_values : 시리즈 값 구하기 (values 속성과 동일))\n",
    "# isin : 시리즈에 포함된 값이 있는지 확인\n",
    "# min : 최솟값 반환\n",
    "# max : 최댓값 반환\n",
    "# mean : 산술 평균 반환\n",
    "# median : 중간값 반환\n",
    "# replace : 특정 값을 가진 시리즈 값을 교체\n",
    "# sample : 시리즈에서 임의의 값을 반환\n",
    "# sort_valuesd : 값을 정렬\n",
    "# to_frame : 시리즈를 데이터프레임으로 변환"
   ]
  },
  {
   "source": [
    "### 시리즈 다루기 - 응용"
   ],
   "cell_type": "markdown",
   "metadata": {}
  },
  {
   "cell_type": "code",
   "execution_count": 29,
   "metadata": {},
   "outputs": [
    {
     "output_type": "execute_result",
     "data": {
      "text/plain": [
       "                   Name        Born        Died  Age          Occupation\n",
       "0     Rosaline Franklin  1920-07-25  1958-04-16   37             Chemist\n",
       "1        William Gosset  1876-06-13  1937-10-16   61        Statistician\n",
       "2  Florence Nightingale  1820-05-12  1910-08-13   90               Nurse\n",
       "3           Marie Curie  1867-11-07  1934-07-04   66             Chemist\n",
       "4         Rachel Carson  1907-05-27  1964-04-14   56           Biologist\n",
       "5             John Snow  1813-03-15  1858-06-16   45           Physician\n",
       "6           Alan Turing  1912-06-23  1954-06-07   41  Computer Scientist\n",
       "7          Johann Gauss  1777-04-30  1855-02-23   77       Mathematician"
      ],
      "text/html": "<div>\n<style scoped>\n    .dataframe tbody tr th:only-of-type {\n        vertical-align: middle;\n    }\n\n    .dataframe tbody tr th {\n        vertical-align: top;\n    }\n\n    .dataframe thead th {\n        text-align: right;\n    }\n</style>\n<table border=\"1\" class=\"dataframe\">\n  <thead>\n    <tr style=\"text-align: right;\">\n      <th></th>\n      <th>Name</th>\n      <th>Born</th>\n      <th>Died</th>\n      <th>Age</th>\n      <th>Occupation</th>\n    </tr>\n  </thead>\n  <tbody>\n    <tr>\n      <th>0</th>\n      <td>Rosaline Franklin</td>\n      <td>1920-07-25</td>\n      <td>1958-04-16</td>\n      <td>37</td>\n      <td>Chemist</td>\n    </tr>\n    <tr>\n      <th>1</th>\n      <td>William Gosset</td>\n      <td>1876-06-13</td>\n      <td>1937-10-16</td>\n      <td>61</td>\n      <td>Statistician</td>\n    </tr>\n    <tr>\n      <th>2</th>\n      <td>Florence Nightingale</td>\n      <td>1820-05-12</td>\n      <td>1910-08-13</td>\n      <td>90</td>\n      <td>Nurse</td>\n    </tr>\n    <tr>\n      <th>3</th>\n      <td>Marie Curie</td>\n      <td>1867-11-07</td>\n      <td>1934-07-04</td>\n      <td>66</td>\n      <td>Chemist</td>\n    </tr>\n    <tr>\n      <th>4</th>\n      <td>Rachel Carson</td>\n      <td>1907-05-27</td>\n      <td>1964-04-14</td>\n      <td>56</td>\n      <td>Biologist</td>\n    </tr>\n    <tr>\n      <th>5</th>\n      <td>John Snow</td>\n      <td>1813-03-15</td>\n      <td>1858-06-16</td>\n      <td>45</td>\n      <td>Physician</td>\n    </tr>\n    <tr>\n      <th>6</th>\n      <td>Alan Turing</td>\n      <td>1912-06-23</td>\n      <td>1954-06-07</td>\n      <td>41</td>\n      <td>Computer Scientist</td>\n    </tr>\n    <tr>\n      <th>7</th>\n      <td>Johann Gauss</td>\n      <td>1777-04-30</td>\n      <td>1855-02-23</td>\n      <td>77</td>\n      <td>Mathematician</td>\n    </tr>\n  </tbody>\n</table>\n</div>"
     },
     "metadata": {},
     "execution_count": 29
    }
   ],
   "source": [
    "scient = pd.read_csv('data/scientists.csv')\n",
    "scient"
   ]
  },
  {
   "cell_type": "code",
   "execution_count": 31,
   "metadata": {},
   "outputs": [
    {
     "output_type": "stream",
     "name": "stdout",
     "text": [
      "90\n59.125\n"
     ]
    }
   ],
   "source": [
    "# Age 컬럼값을 ages에 저장\n",
    "ages = scient['Age']\n",
    "\n",
    "print(ages.max()) # 최댓값\n",
    "print(ages.mean()) # 평균값"
   ]
  },
  {
   "cell_type": "code",
   "execution_count": 36,
   "metadata": {},
   "outputs": [
    {
     "output_type": "stream",
     "name": "stdout",
     "text": [
      "0    False\n1     True\n2     True\n3     True\n4    False\n5    False\n6    False\n7     True\nName: Age, dtype: bool\n"
     ]
    }
   ],
   "source": [
    "# 불린 추출 사용\n",
    "print(ages>ages.mean())"
   ]
  },
  {
   "cell_type": "code",
   "execution_count": 37,
   "metadata": {},
   "outputs": [
    {
     "output_type": "stream",
     "name": "stdout",
     "text": [
      "1    61\n2    90\n3    66\n7    77\nName: Age, dtype: int64\n"
     ]
    }
   ],
   "source": [
    "print(ages[ages>ages.mean()])"
   ]
  },
  {
   "cell_type": "code",
   "execution_count": null,
   "metadata": {},
   "outputs": [],
   "source": [
    "# 브로드 캐스팅 : 시리즈나 데이터프레임에 있는 모든 데이터에 대해 한 번에 연산하는 것\n",
    "# 벡터 : 시리즈처럼 여러 개의 값을 가진 데이터\n",
    "# 스칼라 : 단순 크기를 나타내는 데이터"
   ]
  },
  {
   "cell_type": "code",
   "execution_count": 38,
   "metadata": {},
   "outputs": [
    {
     "output_type": "stream",
     "name": "stdout",
     "text": [
      "0     74\n1    122\n2    180\n3    132\n4    112\n5     90\n6     82\n7    154\nName: Age, dtype: int64\n"
     ]
    }
   ],
   "source": [
    "# 같은 길이의 벡터로 더하기 연산\n",
    "print(ages + ages)"
   ]
  },
  {
   "cell_type": "code",
   "execution_count": 39,
   "metadata": {},
   "outputs": [
    {
     "output_type": "stream",
     "name": "stdout",
     "text": [
      "0    137\n1    161\n2    190\n3    166\n4    156\n5    145\n6    141\n7    177\nName: Age, dtype: int64\n"
     ]
    }
   ],
   "source": [
    "# 벡터에 스칼라를 연산\n",
    "print(ages + 100)"
   ]
  },
  {
   "cell_type": "code",
   "execution_count": 40,
   "metadata": {},
   "outputs": [
    {
     "output_type": "stream",
     "name": "stdout",
     "text": [
      "0     38.0\n1    161.0\n2      NaN\n3      NaN\n4      NaN\n5      NaN\n6      NaN\n7      NaN\ndtype: float64\n"
     ]
    }
   ],
   "source": [
    "# 길이가 서로 다른 벡터 연산 => 같은 인덱스의 값만 계산\n",
    "print(ages + pd.Series([1,100]))"
   ]
  },
  {
   "cell_type": "code",
   "execution_count": 41,
   "metadata": {},
   "outputs": [
    {
     "output_type": "stream",
     "name": "stdout",
     "text": [
      "7    77\n6    41\n5    45\n4    56\n3    66\n2    90\n1    61\n0    37\nName: Age, dtype: int64\n"
     ]
    }
   ],
   "source": [
    "# 인덱스 역순으로 데이터 정렬\n",
    "rev_ages = ages.sort_index(ascending=False)\n",
    "print(rev_ages)"
   ]
  },
  {
   "cell_type": "code",
   "execution_count": 42,
   "metadata": {},
   "outputs": [
    {
     "output_type": "stream",
     "name": "stdout",
     "text": [
      "0     74\n1    122\n2    180\n3    132\n4    112\n5     90\n6     82\n7    154\nName: Age, dtype: int64\n0     74\n1    122\n2    180\n3    132\n4    112\n5     90\n6     82\n7    154\nName: Age, dtype: int64\n"
     ]
    }
   ],
   "source": [
    "# 결과값 동일 => 벡터와 벡터의 연산은 일치하는 인덱스의 값끼리 수행\n",
    "print(ages + rev_ages)\n",
    "print(ages*2)"
   ]
  },
  {
   "source": [
    "### 데이터프레임 다루기"
   ],
   "cell_type": "markdown",
   "metadata": {}
  },
  {
   "cell_type": "code",
   "execution_count": 44,
   "metadata": {},
   "outputs": [
    {
     "output_type": "execute_result",
     "data": {
      "text/plain": [
       "                   Name        Born        Died  Age     Occupation\n",
       "1        William Gosset  1876-06-13  1937-10-16   61   Statistician\n",
       "2  Florence Nightingale  1820-05-12  1910-08-13   90          Nurse\n",
       "3           Marie Curie  1867-11-07  1934-07-04   66        Chemist\n",
       "7          Johann Gauss  1777-04-30  1855-02-23   77  Mathematician"
      ],
      "text/html": "<div>\n<style scoped>\n    .dataframe tbody tr th:only-of-type {\n        vertical-align: middle;\n    }\n\n    .dataframe tbody tr th {\n        vertical-align: top;\n    }\n\n    .dataframe thead th {\n        text-align: right;\n    }\n</style>\n<table border=\"1\" class=\"dataframe\">\n  <thead>\n    <tr style=\"text-align: right;\">\n      <th></th>\n      <th>Name</th>\n      <th>Born</th>\n      <th>Died</th>\n      <th>Age</th>\n      <th>Occupation</th>\n    </tr>\n  </thead>\n  <tbody>\n    <tr>\n      <th>1</th>\n      <td>William Gosset</td>\n      <td>1876-06-13</td>\n      <td>1937-10-16</td>\n      <td>61</td>\n      <td>Statistician</td>\n    </tr>\n    <tr>\n      <th>2</th>\n      <td>Florence Nightingale</td>\n      <td>1820-05-12</td>\n      <td>1910-08-13</td>\n      <td>90</td>\n      <td>Nurse</td>\n    </tr>\n    <tr>\n      <th>3</th>\n      <td>Marie Curie</td>\n      <td>1867-11-07</td>\n      <td>1934-07-04</td>\n      <td>66</td>\n      <td>Chemist</td>\n    </tr>\n    <tr>\n      <th>7</th>\n      <td>Johann Gauss</td>\n      <td>1777-04-30</td>\n      <td>1855-02-23</td>\n      <td>77</td>\n      <td>Mathematician</td>\n    </tr>\n  </tbody>\n</table>\n</div>"
     },
     "metadata": {},
     "execution_count": 44
    }
   ],
   "source": [
    "## 1. 불린 추출하기\n",
    "scient[scient['Age'] > scient['Age'].mean()]"
   ]
  },
  {
   "source": [
    "### 시리즈와 데이터프레임의 데이터 처리하기"
   ],
   "cell_type": "markdown",
   "metadata": {}
  },
  {
   "cell_type": "code",
   "execution_count": 53,
   "metadata": {},
   "outputs": [
    {
     "output_type": "stream",
     "name": "stdout",
     "text": [
      "object\nobject\n"
     ]
    }
   ],
   "source": [
    "print(scient['Born'].dtype)\r\n",
    "print(scient['Died'].dtype)"
   ]
  },
  {
   "cell_type": "code",
   "execution_count": 57,
   "metadata": {},
   "outputs": [
    {
     "output_type": "stream",
     "name": "stdout",
     "text": [
      "0   1920-07-25\n1   1876-06-13\n2   1820-05-12\n3   1867-11-07\n4   1907-05-27\n5   1813-03-15\n6   1912-06-23\n7   1777-04-30\nName: Born, dtype: datetime64[ns]\n"
     ]
    }
   ],
   "source": [
    "# 문자형을 datetime 자료형으로 변경\n",
    "born_datetime = pd.to_datetime(scient['Born'], format='%Y-%m-%d')\n",
    "print(born_datetime)"
   ]
  },
  {
   "cell_type": "code",
   "execution_count": 60,
   "metadata": {},
   "outputs": [
    {
     "output_type": "stream",
     "name": "stdout",
     "text": [
      "0   1958-04-16\n1   1937-10-16\n2   1910-08-13\n3   1934-07-04\n4   1964-04-14\n5   1858-06-16\n6   1954-06-07\n7   1855-02-23\nName: Died, dtype: datetime64[ns]\n"
     ]
    }
   ],
   "source": [
    "died_datetime = pd.to_datetime(scient['Died'], format='%Y-%m-%d')\n",
    "print(died_datetime)"
   ]
  },
  {
   "cell_type": "code",
   "execution_count": 63,
   "metadata": {},
   "outputs": [
    {
     "output_type": "stream",
     "name": "stdout",
     "text": [
      "                   Name        Born        Died  Age          Occupation  \\\n0     Rosaline Franklin  1920-07-25  1958-04-16   37             Chemist   \n1        William Gosset  1876-06-13  1937-10-16   61        Statistician   \n2  Florence Nightingale  1820-05-12  1910-08-13   90               Nurse   \n3           Marie Curie  1867-11-07  1934-07-04   66             Chemist   \n4         Rachel Carson  1907-05-27  1964-04-14   56           Biologist   \n5             John Snow  1813-03-15  1858-06-16   45           Physician   \n6           Alan Turing  1912-06-23  1954-06-07   41  Computer Scientist   \n7          Johann Gauss  1777-04-30  1855-02-23   77       Mathematician   \n\n     born_dt    died_dt  \n0 1920-07-25 1958-04-16  \n1 1876-06-13 1937-10-16  \n2 1820-05-12 1910-08-13  \n3 1867-11-07 1934-07-04  \n4 1907-05-27 1964-04-14  \n5 1813-03-15 1858-06-16  \n6 1912-06-23 1954-06-07  \n7 1777-04-30 1855-02-23  \n(8, 7)\n"
     ]
    }
   ],
   "source": [
    "## 데이터프레임에 각각의 값을 새로운 열로 추가하기\n",
    "scient['born_dt'], scient['died_dt'] = (born_datetime, died_datetime)\n",
    "print(scient)\n",
    "print(scient.shape)"
   ]
  },
  {
   "cell_type": "code",
   "execution_count": 71,
   "metadata": {},
   "outputs": [
    {
     "output_type": "stream",
     "name": "stdout",
     "text": [
      "timedelta64[ns]\n"
     ]
    },
    {
     "output_type": "execute_result",
     "data": {
      "text/plain": [
       "                   Name        Born        Died  Age          Occupation  \\\n",
       "0     Rosaline Franklin  1920-07-25  1958-04-16   37             Chemist   \n",
       "1        William Gosset  1876-06-13  1937-10-16   61        Statistician   \n",
       "2  Florence Nightingale  1820-05-12  1910-08-13   90               Nurse   \n",
       "3           Marie Curie  1867-11-07  1934-07-04   66             Chemist   \n",
       "4         Rachel Carson  1907-05-27  1964-04-14   56           Biologist   \n",
       "5             John Snow  1813-03-15  1858-06-16   45           Physician   \n",
       "6           Alan Turing  1912-06-23  1954-06-07   41  Computer Scientist   \n",
       "7          Johann Gauss  1777-04-30  1855-02-23   77       Mathematician   \n",
       "\n",
       "     born_dt    died_dt age_days_dt  \n",
       "0 1920-07-25 1958-04-16  13779 days  \n",
       "1 1876-06-13 1937-10-16  22404 days  \n",
       "2 1820-05-12 1910-08-13  32964 days  \n",
       "3 1867-11-07 1934-07-04  24345 days  \n",
       "4 1907-05-27 1964-04-14  20777 days  \n",
       "5 1813-03-15 1858-06-16  16529 days  \n",
       "6 1912-06-23 1954-06-07  15324 days  \n",
       "7 1777-04-30 1855-02-23  28422 days  "
      ],
      "text/html": "<div>\n<style scoped>\n    .dataframe tbody tr th:only-of-type {\n        vertical-align: middle;\n    }\n\n    .dataframe tbody tr th {\n        vertical-align: top;\n    }\n\n    .dataframe thead th {\n        text-align: right;\n    }\n</style>\n<table border=\"1\" class=\"dataframe\">\n  <thead>\n    <tr style=\"text-align: right;\">\n      <th></th>\n      <th>Name</th>\n      <th>Born</th>\n      <th>Died</th>\n      <th>Age</th>\n      <th>Occupation</th>\n      <th>born_dt</th>\n      <th>died_dt</th>\n      <th>age_days_dt</th>\n    </tr>\n  </thead>\n  <tbody>\n    <tr>\n      <th>0</th>\n      <td>Rosaline Franklin</td>\n      <td>1920-07-25</td>\n      <td>1958-04-16</td>\n      <td>37</td>\n      <td>Chemist</td>\n      <td>1920-07-25</td>\n      <td>1958-04-16</td>\n      <td>13779 days</td>\n    </tr>\n    <tr>\n      <th>1</th>\n      <td>William Gosset</td>\n      <td>1876-06-13</td>\n      <td>1937-10-16</td>\n      <td>61</td>\n      <td>Statistician</td>\n      <td>1876-06-13</td>\n      <td>1937-10-16</td>\n      <td>22404 days</td>\n    </tr>\n    <tr>\n      <th>2</th>\n      <td>Florence Nightingale</td>\n      <td>1820-05-12</td>\n      <td>1910-08-13</td>\n      <td>90</td>\n      <td>Nurse</td>\n      <td>1820-05-12</td>\n      <td>1910-08-13</td>\n      <td>32964 days</td>\n    </tr>\n    <tr>\n      <th>3</th>\n      <td>Marie Curie</td>\n      <td>1867-11-07</td>\n      <td>1934-07-04</td>\n      <td>66</td>\n      <td>Chemist</td>\n      <td>1867-11-07</td>\n      <td>1934-07-04</td>\n      <td>24345 days</td>\n    </tr>\n    <tr>\n      <th>4</th>\n      <td>Rachel Carson</td>\n      <td>1907-05-27</td>\n      <td>1964-04-14</td>\n      <td>56</td>\n      <td>Biologist</td>\n      <td>1907-05-27</td>\n      <td>1964-04-14</td>\n      <td>20777 days</td>\n    </tr>\n    <tr>\n      <th>5</th>\n      <td>John Snow</td>\n      <td>1813-03-15</td>\n      <td>1858-06-16</td>\n      <td>45</td>\n      <td>Physician</td>\n      <td>1813-03-15</td>\n      <td>1858-06-16</td>\n      <td>16529 days</td>\n    </tr>\n    <tr>\n      <th>6</th>\n      <td>Alan Turing</td>\n      <td>1912-06-23</td>\n      <td>1954-06-07</td>\n      <td>41</td>\n      <td>Computer Scientist</td>\n      <td>1912-06-23</td>\n      <td>1954-06-07</td>\n      <td>15324 days</td>\n    </tr>\n    <tr>\n      <th>7</th>\n      <td>Johann Gauss</td>\n      <td>1777-04-30</td>\n      <td>1855-02-23</td>\n      <td>77</td>\n      <td>Mathematician</td>\n      <td>1777-04-30</td>\n      <td>1855-02-23</td>\n      <td>28422 days</td>\n    </tr>\n  </tbody>\n</table>\n</div>"
     },
     "metadata": {},
     "execution_count": 71
    }
   ],
   "source": [
    "# datetime 형식을 빼면 일수가 나옴\n",
    "scient['age_days_dt'] = (scient['died_dt']-scient['born_dt'])\n",
    "print(scient['age_days_dt'].dtype)\n",
    "scient"
   ]
  },
  {
   "source": [
    "#### 시리즈, 데이터프레임의 데이터 섞기"
   ],
   "cell_type": "markdown",
   "metadata": {}
  },
  {
   "cell_type": "code",
   "execution_count": 72,
   "metadata": {},
   "outputs": [
    {
     "output_type": "stream",
     "name": "stdout",
     "text": [
      "0    37\n1    61\n2    90\n3    66\n4    56\n5    45\n6    41\n7    77\nName: Age, dtype: int64\n"
     ]
    }
   ],
   "source": [
    "## 시리즈, 데이터프레임의 데이터 섞기\n",
    "print(scient['Age'])"
   ]
  },
  {
   "cell_type": "code",
   "execution_count": 73,
   "metadata": {},
   "outputs": [
    {
     "output_type": "stream",
     "name": "stdout",
     "text": [
      "0    66\n1    56\n2    41\n3    77\n4    90\n5    45\n6    37\n7    61\nName: Age, dtype: int64\n"
     ]
    }
   ],
   "source": [
    "import random\n",
    "\n",
    "random.seed(42) # 컴퓨터가 생성하는 난수의 기준값을 정하기 위해 사용\n",
    "random.shuffle(scient['Age'])\n",
    "print(scient['Age'])"
   ]
  },
  {
   "source": [
    "#### 데이터프레임의 열 삭제하기"
   ],
   "cell_type": "markdown",
   "metadata": {}
  },
  {
   "cell_type": "code",
   "execution_count": 80,
   "metadata": {},
   "outputs": [
    {
     "output_type": "stream",
     "name": "stdout",
     "text": [
      "Index(['Name', 'Born', 'Died', 'Occupation', 'born_dt', 'died_dt',\n       'age_days_dt'],\n      dtype='object')\n"
     ]
    }
   ],
   "source": [
    "scient_dropped = scient.drop(['Age'], axis=1) # axis = 1로 하면 열삭제\n",
    "print(scient_dropped.columns)"
   ]
  },
  {
   "source": [
    "### 데이터 저장하고 불러오기"
   ],
   "cell_type": "markdown",
   "metadata": {}
  },
  {
   "source": [
    "#### 1. 피클로 저장하기\n",
    "    - 피클은 데이터를 바이너리 형태로 직렬화한 오브젝트를 저장하는 방법"
   ],
   "cell_type": "markdown",
   "metadata": {}
  },
  {
   "cell_type": "code",
   "execution_count": 86,
   "metadata": {},
   "outputs": [],
   "source": [
    "names = scient['Name']\n",
    "names.to_pickle('output/scientists_names_series.pickle')"
   ]
  },
  {
   "cell_type": "code",
   "execution_count": 89,
   "metadata": {},
   "outputs": [
    {
     "output_type": "stream",
     "name": "stdout",
     "text": [
      "0       Rosaline Franklin\n1          William Gosset\n2    Florence Nightingale\n3             Marie Curie\n4           Rachel Carson\n5               John Snow\n6             Alan Turing\n7            Johann Gauss\nName: Name, dtype: object\n"
     ]
    }
   ],
   "source": [
    "# 데이터 불러오기 \n",
    "# 피클 데이터는 반드시 read_pickle 메서드로 읽어야함\n",
    "scient_name = pd.read_pickle('output/scientists_names_series.pickle')\n",
    "print(scient_name)"
   ]
  },
  {
   "cell_type": "code",
   "execution_count": 87,
   "metadata": {},
   "outputs": [],
   "source": [
    "# 데이터프레임도 피클로 저장가능\n",
    "scient.to_pickle('output/scientists_df.pickle')"
   ]
  },
  {
   "cell_type": "code",
   "execution_count": 90,
   "metadata": {},
   "outputs": [
    {
     "output_type": "stream",
     "name": "stdout",
     "text": [
      "                   Name        Born        Died  Age          Occupation  \\\n0     Rosaline Franklin  1920-07-25  1958-04-16   66             Chemist   \n1        William Gosset  1876-06-13  1937-10-16   56        Statistician   \n2  Florence Nightingale  1820-05-12  1910-08-13   41               Nurse   \n3           Marie Curie  1867-11-07  1934-07-04   77             Chemist   \n4         Rachel Carson  1907-05-27  1964-04-14   90           Biologist   \n5             John Snow  1813-03-15  1858-06-16   45           Physician   \n6           Alan Turing  1912-06-23  1954-06-07   37  Computer Scientist   \n7          Johann Gauss  1777-04-30  1855-02-23   61       Mathematician   \n\n     born_dt    died_dt age_days_dt  \n0 1920-07-25 1958-04-16  13779 days  \n1 1876-06-13 1937-10-16  22404 days  \n2 1820-05-12 1910-08-13  32964 days  \n3 1867-11-07 1934-07-04  24345 days  \n4 1907-05-27 1964-04-14  20777 days  \n5 1813-03-15 1858-06-16  16529 days  \n6 1912-06-23 1954-06-07  15324 days  \n7 1777-04-30 1855-02-23  28422 days  \n"
     ]
    }
   ],
   "source": [
    "# 데이터 불러오기\n",
    "scient_from = pd.read_pickle('output/scientists_df.pickle')\n",
    "print(scient_from)"
   ]
  },
  {
   "cell_type": "code",
   "execution_count": null,
   "metadata": {},
   "outputs": [],
   "source": [
    "## 파일 저장하기\n",
    "# csv 파일 : 데이터를 쉼표로 구분하여 저장한 파일\n",
    "# tsv 파일 : 데이터를 탭으로 구분하여 저장한 파일"
   ]
  },
  {
   "cell_type": "code",
   "execution_count": 92,
   "metadata": {},
   "outputs": [],
   "source": [
    "names.to_csv('output/scient_csv.csv')\n",
    "scient.to_csv('output/scient_tab.tsv', sep='\\t') # sep='\\t' 탭으로 구분한다고 선언"
   ]
  },
  {
   "cell_type": "code",
   "execution_count": null,
   "metadata": {},
   "outputs": [],
   "source": [
    "## 시리즈와 데이터프레임을 엑셀파일로 저장하기\n",
    "# pip install xlwt\n",
    "# pip install openyxl\n",
    "## 라이브러리 설치하기"
   ]
  }
 ]
}