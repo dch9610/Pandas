{
 "metadata": {
  "language_info": {
   "codemirror_mode": {
    "name": "ipython",
    "version": 3
   },
   "file_extension": ".py",
   "mimetype": "text/x-python",
   "name": "python",
   "nbconvert_exporter": "python",
   "pygments_lexer": "ipython3",
   "version": "3.8.5-final"
  },
  "orig_nbformat": 2,
  "kernelspec": {
   "name": "python3",
   "display_name": "Python 3",
   "language": "python"
  }
 },
 "nbformat": 4,
 "nbformat_minor": 2,
 "cells": [
  {
   "source": [
    "## 데이터 연결하기"
   ],
   "cell_type": "markdown",
   "metadata": {}
  },
  {
   "source": [
    "#### 깔끔한 데이터의 조건\n",
    "- 데이터 분석 목적에 맞는 데이터를 모아 새로운 표를 만들어야 한다.\n",
    "- 측정한 값은 행을 구성해야 한다.\n",
    "- 변수는 열로 구성해야한다."
   ],
   "cell_type": "markdown",
   "metadata": {}
  },
  {
   "cell_type": "code",
   "execution_count": 1,
   "metadata": {},
   "outputs": [],
   "source": [
    "#### concat 메서드로 데이터 연결하기\n",
    "import pandas as pd\n",
    "\n",
    "df1 = pd.read_csv('data/concat_1.csv')\n",
    "df2 = pd.read_csv('data/concat_2.csv')\n",
    "df3 = pd.read_csv('data/concat_3.csv')"
   ]
  },
  {
   "cell_type": "code",
   "execution_count": 2,
   "metadata": {},
   "outputs": [
    {
     "output_type": "stream",
     "name": "stdout",
     "text": [
      "     A    B    C    D\n0   a0   b0   c0   d0\n1   a1   b1   c1   d1\n2   a2   b2   c2   d2\n3   a3   b3   c3   d3\n0   a4   b4   c4   d4\n1   a5   b5   c5   d5\n2   a6   b6   c6   d6\n3   a7   b7   c7   d7\n0   a8   b8   c8   d8\n1   a9   b9   c9   d9\n2  a10  b10  c10  d10\n3  a11  b11  c11  d11\n"
     ]
    }
   ],
   "source": [
    "# concat 메서드는 데이터프레임을 연결할 때 위에서 아래 방향으로 연결한다.\n",
    "row_concat = pd.concat([df1, df2, df3])\n",
    "print(row_concat)"
   ]
  },
  {
   "cell_type": "code",
   "execution_count": 5,
   "metadata": {},
   "outputs": [
    {
     "output_type": "stream",
     "name": "stdout",
     "text": [
      "A    a3\nB    b3\nC    c3\nD    d3\nName: 3, dtype: object\n"
     ]
    }
   ],
   "source": [
    "# 행 데이터 추출\n",
    "print(row_concat.iloc[3])"
   ]
  },
  {
   "cell_type": "code",
   "execution_count": 7,
   "metadata": {},
   "outputs": [
    {
     "output_type": "execute_result",
     "data": {
      "text/plain": [
       "0    n1\n",
       "1    n2\n",
       "2    n3\n",
       "3    n4\n",
       "dtype: object"
      ]
     },
     "metadata": {},
     "execution_count": 7
    }
   ],
   "source": [
    "# 데이터프레임에 시리즈 연결하기\n",
    "new_row_series = pd.Series(['n1', 'n2', 'n3', 'n4'])\n",
    "new_row_series"
   ]
  },
  {
   "cell_type": "code",
   "execution_count": 8,
   "metadata": {},
   "outputs": [
    {
     "output_type": "stream",
     "name": "stdout",
     "text": [
      "     A    B    C    D    0\n0   a0   b0   c0   d0  NaN\n1   a1   b1   c1   d1  NaN\n2   a2   b2   c2   d2  NaN\n3   a3   b3   c3   d3  NaN\n0  NaN  NaN  NaN  NaN   n1\n1  NaN  NaN  NaN  NaN   n2\n2  NaN  NaN  NaN  NaN   n3\n3  NaN  NaN  NaN  NaN   n4\n"
     ]
    }
   ],
   "source": [
    "# 데이터프레임과 시리즈를 연결하면 행이 아니라 열로 추가됨\n",
    "# 시리즈에는 열이름이 없기 때문에 새로운 열로 간주하여 0이라는 이름의 열을 추가\n",
    "print(pd.concat([df1, new_row_series]))"
   ]
  },
  {
   "cell_type": "code",
   "execution_count": 9,
   "metadata": {},
   "outputs": [
    {
     "output_type": "stream",
     "name": "stdout",
     "text": [
      "    A   B   C   D\n0  n1  n2  n3  n4\n"
     ]
    }
   ],
   "source": [
    "# 행 1개로 구성된 데이터프레임 생성하여 연결하기\n",
    "new_row_df = pd.DataFrame([['n1', 'n2', 'n3','n4']], columns=['A','B','C','D'])\n",
    "print(new_row_df)"
   ]
  },
  {
   "cell_type": "code",
   "execution_count": 13,
   "metadata": {},
   "outputs": [
    {
     "output_type": "stream",
     "name": "stdout",
     "text": [
      "    A   B   C   D\n0  a0  b0  c0  d0\n1  a1  b1  c1  d1\n2  a2  b2  c2  d2\n3  a3  b3  c3  d3\n4  n1  n2  n3  n4\n"
     ]
    }
   ],
   "source": [
    "# 연결할 데이터프레임이 1개라면 append 메서드를 사용해도됨\n",
    "print(df1.append(new_row_df,ignore_index=True))"
   ]
  },
  {
   "cell_type": "code",
   "execution_count": 11,
   "metadata": {},
   "outputs": [
    {
     "output_type": "stream",
     "name": "stdout",
     "text": [
      "    A   B   C   D\n0  a0  b0  c0  d0\n1  a1  b1  c1  d1\n2  a2  b2  c2  d2\n3  a3  b3  c3  d3\n4  n1  n2  n3  n4\n"
     ]
    }
   ],
   "source": [
    "# append와 딕셔너리를 이용하여 데이터 연결\n",
    "# ignore_index를 True로 설정하면 데이터를 연결한 다음 데이터프레임의 인덱스를 0부터 다시 지정\n",
    "data_dict = {'A':'n1', 'B':'n2', 'C':'n3', 'D':'n4'}\n",
    "print(df1.append(data_dict, ignore_index=True))"
   ]
  },
  {
   "cell_type": "code",
   "execution_count": 17,
   "metadata": {},
   "outputs": [
    {
     "output_type": "stream",
     "name": "stdout",
     "text": [
      "    A   B   C   D   A   B   C   D    A    B    C    D\n0  a0  b0  c0  d0  a4  b4  c4  d4   a8   b8   c8   d8\n1  a1  b1  c1  d1  a5  b5  c5  d5   a9   b9   c9   d9\n2  a2  b2  c2  d2  a6  b6  c6  d6  a10  b10  c10  d10\n3  a3  b3  c3  d3  a7  b7  c7  d7  a11  b11  c11  d11\n"
     ]
    }
   ],
   "source": [
    "# 열방향으로 데이터 연결하기\n",
    "# axis = 1 (열방향 연결), axis = 0 (행방향 연결)\n",
    "col_concat = pd.concat([df1, df2, df3], axis=1)\n",
    "print(col_concat)"
   ]
  },
  {
   "cell_type": "code",
   "execution_count": 18,
   "metadata": {},
   "outputs": [
    {
     "output_type": "stream",
     "name": "stdout",
     "text": [
      "    A   B   C   D   A   B   C   D    A    B    C    D new_col\n0  a0  b0  c0  d0  a4  b4  c4  d4   a8   b8   c8   d8      n1\n1  a1  b1  c1  d1  a5  b5  c5  d5   a9   b9   c9   d9      n2\n2  a2  b2  c2  d2  a6  b6  c6  d6  a10  b10  c10  d10      n3\n3  a3  b3  c3  d3  a7  b7  c7  d7  a11  b11  c11  d11      n4\n"
     ]
    }
   ],
   "source": [
    "# 새로운 열 추가\n",
    "col_concat['new_col'] = ['n1', 'n2', 'n3', 'n4']\n",
    "print(col_concat)"
   ]
  },
  {
   "cell_type": "code",
   "execution_count": 19,
   "metadata": {},
   "outputs": [
    {
     "output_type": "stream",
     "name": "stdout",
     "text": [
      "   0   1   2   3   4   5   6   7    8    9    10   11\n0  a0  b0  c0  d0  a4  b4  c4  d4   a8   b8   c8   d8\n1  a1  b1  c1  d1  a5  b5  c5  d5   a9   b9   c9   d9\n2  a2  b2  c2  d2  a6  b6  c6  d6  a10  b10  c10  d10\n3  a3  b3  c3  d3  a7  b7  c7  d7  a11  b11  c11  d11\n"
     ]
    }
   ],
   "source": [
    "# 열이름도 새롭게 정렬가능\n",
    "print(pd.concat([df1, df2, df3], axis=1, ignore_index=True))"
   ]
  },
  {
   "cell_type": "code",
   "execution_count": 20,
   "metadata": {},
   "outputs": [],
   "source": [
    "# 열이름 다시 지정\n",
    "df1.columns=['A','B','C','D']\n",
    "df2.columns=['E','F','G','H']\n",
    "df3.columns=['A','C','F','H']"
   ]
  },
  {
   "cell_type": "code",
   "execution_count": 22,
   "metadata": {},
   "outputs": [
    {
     "output_type": "stream",
     "name": "stdout",
     "text": [
      "     A    B    C    D    E    F    G    H\n0   a0   b0   c0   d0  NaN  NaN  NaN  NaN\n1   a1   b1   c1   d1  NaN  NaN  NaN  NaN\n2   a2   b2   c2   d2  NaN  NaN  NaN  NaN\n3   a3   b3   c3   d3  NaN  NaN  NaN  NaN\n0  NaN  NaN  NaN  NaN   a4   b4   c4   d4\n1  NaN  NaN  NaN  NaN   a5   b5   c5   d5\n2  NaN  NaN  NaN  NaN   a6   b6   c6   d6\n3  NaN  NaN  NaN  NaN   a7   b7   c7   d7\n0   a8  NaN   b8  NaN  NaN   c8  NaN   d8\n1   a9  NaN   b9  NaN  NaN   c9  NaN   d9\n2  a10  NaN  b10  NaN  NaN  c10  NaN  d10\n3  a11  NaN  b11  NaN  NaN  c11  NaN  d11\n"
     ]
    }
   ],
   "source": [
    "# 데이터프레임에 없는 열 이름의 데이터는 누락값으로 처리\n",
    "row_concat = pd.concat([df1,df2,df3])\n",
    "print(row_concat)"
   ]
  },
  {
   "cell_type": "code",
   "execution_count": 23,
   "metadata": {},
   "outputs": [
    {
     "output_type": "stream",
     "name": "stdout",
     "text": [
      "     A    C\n0   a0   c0\n1   a1   c1\n2   a2   c2\n3   a3   c3\n0   a8   b8\n1   a9   b9\n2  a10  b10\n3  a11  b11\n"
     ]
    }
   ],
   "source": [
    "# 공통된열만 골라 연결하여 누락값 제거\n",
    "# 공통열만 연결하려면 join 인자를 inner로 지정\n",
    "print(pd.concat([df1,df3], ignore_index=False, join='inner'))"
   ]
  },
  {
   "source": [
    "### 내부조인과 외부조인\n",
    "- 내부조인 : 둘 이상의 데이터프레임에서 조건에 맞는 행을 연결하는 것\n",
    "- 외부조인 : 두 데이터프레임 중 어떤 데이터프레임을 기준으로 할 것인지에 따라 왼쪽, 오른쪽, 완전으로 나뉨\n",
    "    - 왼쪽 : 왼쪽 데이터프레임을 모두 포함하여 연결\n",
    "    - 오른쪽 : 오른쪽 데이터프레임을 모두 포함하여 연결\n",
    "    - 완전 : 왼쪽, 오른쪽 모두 포함하여 연결\n",
    "    "
   ],
   "cell_type": "markdown",
   "metadata": {}
  },
  {
   "cell_type": "code",
   "execution_count": 33,
   "metadata": {},
   "outputs": [
    {
     "output_type": "stream",
     "name": "stdout",
     "text": [
      "    name    lat    long\n0   DR-1 -49.85 -128.57\n1   DR-3 -47.15 -126.72\n2  MSK-4 -48.87 -123.40\n"
     ]
    }
   ],
   "source": [
    "### merge 메서드 사용하기\n",
    "person = pd.read_csv('data/survey_person.csv')\n",
    "site = pd.read_csv('data/survey_site.csv')\n",
    "survey = pd.read_csv('data/survey_survey.csv')\n",
    "visited = pd.read_csv('data/survey_visited.csv')\n",
    "print(site)"
   ]
  },
  {
   "cell_type": "code",
   "execution_count": 28,
   "metadata": {},
   "outputs": [
    {
     "output_type": "stream",
     "name": "stdout",
     "text": [
      "   ident   site       dated\n0    619   DR-1  1927-02-08\n2    734   DR-3  1939-01-07\n6    837  MSK-4  1932-01-14\n"
     ]
    }
   ],
   "source": [
    "# visited 데이터 일부 추출\n",
    "visited_subset = visited.loc[[0,2,6],]\n",
    "print(visited_subset)"
   ]
  },
  {
   "cell_type": "code",
   "execution_count": 31,
   "metadata": {},
   "outputs": [
    {
     "output_type": "stream",
     "name": "stdout",
     "text": [
      "    name    lat    long  ident   site       dated\n0   DR-1 -49.85 -128.57    619   DR-1  1927-02-08\n1   DR-3 -47.15 -126.72    734   DR-3  1939-01-07\n2  MSK-4 -48.87 -123.40    837  MSK-4  1932-01-14\n"
     ]
    }
   ],
   "source": [
    "# site를 중심으로 visited\n",
    "o2o_merge = site.merge(visited_subset, left_on='name', right_on='site')\n",
    "print(o2o_merge)"
   ]
  },
  {
   "cell_type": "code",
   "execution_count": 38,
   "metadata": {},
   "outputs": [
    {
     "output_type": "stream",
     "name": "stdout",
     "text": [
      "    name    lat    long  ident   site       dated\n0   DR-1 -49.85 -128.57    619   DR-1  1927-02-08\n1   DR-1 -49.85 -128.57    622   DR-1  1927-02-10\n2   DR-1 -49.85 -128.57    844   DR-1  1932-03-22\n3   DR-3 -47.15 -126.72    734   DR-3  1939-01-07\n4   DR-3 -47.15 -126.72    735   DR-3  1930-01-12\n5   DR-3 -47.15 -126.72    751   DR-3  1930-02-26\n6   DR-3 -47.15 -126.72    752   DR-3         NaN\n7  MSK-4 -48.87 -123.40    837  MSK-4  1932-01-14\n"
     ]
    }
   ],
   "source": [
    "o2o_merge = site.merge(visited, left_on='name', right_on='site')\n",
    "print(o2o_merge)"
   ]
  },
  {
   "cell_type": "code",
   "execution_count": 43,
   "metadata": {},
   "outputs": [
    {
     "output_type": "stream",
     "name": "stdout",
     "text": [
      "      ident   personal    family\n0      dyer    William      Dyer\n1        pb      Frank   Pabodie\n2      lake   Anderson      Lake\n3       roe  Valentina   Roerich\n4  danforth      Frank  Danforth\n    taken person quant  reading\n0     619   dyer   rad     9.82\n1     619   dyer   sal     0.13\n2     622   dyer   rad     7.80\n3     622   dyer   sal     0.09\n4     734     pb   rad     8.41\n5     734   lake   sal     0.05\n6     734     pb  temp   -21.50\n7     735     pb   rad     7.22\n8     735    NaN   sal     0.06\n9     735    NaN  temp   -26.00\n10    751     pb   rad     4.35\n11    751     pb  temp   -18.50\n12    751   lake   sal     0.10\n13    752   lake   rad     2.19\n14    752   lake   sal     0.09\n15    752   lake  temp   -16.00\n16    752    roe   sal    41.60\n17    837   lake   rad     1.46\n18    837   lake   sal     0.21\n19    837    roe   sal    22.50\n20    844    roe   rad    11.25\n"
     ]
    }
   ],
   "source": [
    "print(person)\n",
    "print(survey)"
   ]
  },
  {
   "cell_type": "code",
   "execution_count": 48,
   "metadata": {},
   "outputs": [
    {
     "output_type": "stream",
     "name": "stdout",
     "text": [
      "   ident   personal   family  taken person quant  reading\n0   dyer    William     Dyer    619   dyer   rad     9.82\n1   dyer    William     Dyer    619   dyer   sal     0.13\n2   dyer    William     Dyer    622   dyer   rad     7.80\n3   dyer    William     Dyer    622   dyer   sal     0.09\n4     pb      Frank  Pabodie    734     pb   rad     8.41\n5     pb      Frank  Pabodie    734     pb  temp   -21.50\n6     pb      Frank  Pabodie    735     pb   rad     7.22\n7     pb      Frank  Pabodie    751     pb   rad     4.35\n8     pb      Frank  Pabodie    751     pb  temp   -18.50\n9   lake   Anderson     Lake    734   lake   sal     0.05\n10  lake   Anderson     Lake    751   lake   sal     0.10\n11  lake   Anderson     Lake    752   lake   rad     2.19\n12  lake   Anderson     Lake    752   lake   sal     0.09\n13  lake   Anderson     Lake    752   lake  temp   -16.00\n14  lake   Anderson     Lake    837   lake   rad     1.46\n15  lake   Anderson     Lake    837   lake   sal     0.21\n16   roe  Valentina  Roerich    752    roe   sal    41.60\n17   roe  Valentina  Roerich    837    roe   sal    22.50\n18   roe  Valentina  Roerich    844    roe   rad    11.25\n    ident   site       dated  taken person quant  reading\n0     619   DR-1  1927-02-08    619   dyer   rad     9.82\n1     619   DR-1  1927-02-08    619   dyer   sal     0.13\n2     622   DR-1  1927-02-10    622   dyer   rad     7.80\n3     622   DR-1  1927-02-10    622   dyer   sal     0.09\n4     734   DR-3  1939-01-07    734     pb   rad     8.41\n5     734   DR-3  1939-01-07    734   lake   sal     0.05\n6     734   DR-3  1939-01-07    734     pb  temp   -21.50\n7     735   DR-3  1930-01-12    735     pb   rad     7.22\n8     735   DR-3  1930-01-12    735    NaN   sal     0.06\n9     735   DR-3  1930-01-12    735    NaN  temp   -26.00\n10    751   DR-3  1930-02-26    751     pb   rad     4.35\n11    751   DR-3  1930-02-26    751     pb  temp   -18.50\n12    751   DR-3  1930-02-26    751   lake   sal     0.10\n13    752   DR-3         NaN    752   lake   rad     2.19\n14    752   DR-3         NaN    752   lake   sal     0.09\n15    752   DR-3         NaN    752   lake  temp   -16.00\n16    752   DR-3         NaN    752    roe   sal    41.60\n17    837  MSK-4  1932-01-14    837   lake   rad     1.46\n18    837  MSK-4  1932-01-14    837   lake   sal     0.21\n19    837  MSK-4  1932-01-14    837    roe   sal    22.50\n20    844   DR-1  1932-03-22    844    roe   rad    11.25\n"
     ]
    }
   ],
   "source": [
    "# 다른 데이터 연결해보기\n",
    "# 열이름은 다르지만 행의 데이터는 같아야 병합가능\n",
    "ps = person.merge(survey, left_on='ident', right_on='person')\n",
    "vs = visited.merge(survey, left_on='ident', right_on='taken')\n",
    "print(ps)\n",
    "print(vs)"
   ]
  },
  {
   "cell_type": "code",
   "execution_count": 53,
   "metadata": {},
   "outputs": [
    {
     "output_type": "stream",
     "name": "stdout",
     "text": [
      "   ident_x   personal   family  taken_x person_x quant  reading_x  ident_y  \\\n0     dyer    William     Dyer      619     dyer   rad       9.82      619   \n1     dyer    William     Dyer      619     dyer   sal       0.13      619   \n2     dyer    William     Dyer      622     dyer   rad       7.80      622   \n3     dyer    William     Dyer      622     dyer   sal       0.09      622   \n4       pb      Frank  Pabodie      734       pb   rad       8.41      734   \n5       pb      Frank  Pabodie      734       pb  temp     -21.50      734   \n6       pb      Frank  Pabodie      735       pb   rad       7.22      735   \n7       pb      Frank  Pabodie      751       pb   rad       4.35      751   \n8       pb      Frank  Pabodie      751       pb  temp     -18.50      751   \n9     lake   Anderson     Lake      734     lake   sal       0.05      734   \n10    lake   Anderson     Lake      751     lake   sal       0.10      751   \n11    lake   Anderson     Lake      752     lake   rad       2.19      752   \n12    lake   Anderson     Lake      752     lake   sal       0.09      752   \n13    lake   Anderson     Lake      752     lake  temp     -16.00      752   \n14    lake   Anderson     Lake      837     lake   rad       1.46      837   \n15    lake   Anderson     Lake      837     lake   sal       0.21      837   \n16     roe  Valentina  Roerich      752      roe   sal      41.60      752   \n17     roe  Valentina  Roerich      837      roe   sal      22.50      837   \n18     roe  Valentina  Roerich      844      roe   rad      11.25      844   \n\n     site       dated  taken_y person_y  reading_y  \n0    DR-1  1927-02-08      619     dyer       9.82  \n1    DR-1  1927-02-08      619     dyer       0.13  \n2    DR-1  1927-02-10      622     dyer       7.80  \n3    DR-1  1927-02-10      622     dyer       0.09  \n4    DR-3  1939-01-07      734       pb       8.41  \n5    DR-3  1939-01-07      734       pb     -21.50  \n6    DR-3  1930-01-12      735       pb       7.22  \n7    DR-3  1930-02-26      751       pb       4.35  \n8    DR-3  1930-02-26      751       pb     -18.50  \n9    DR-3  1939-01-07      734     lake       0.05  \n10   DR-3  1930-02-26      751     lake       0.10  \n11   DR-3         NaN      752     lake       2.19  \n12   DR-3         NaN      752     lake       0.09  \n13   DR-3         NaN      752     lake     -16.00  \n14  MSK-4  1932-01-14      837     lake       1.46  \n15  MSK-4  1932-01-14      837     lake       0.21  \n16   DR-3         NaN      752      roe      41.60  \n17  MSK-4  1932-01-14      837      roe      22.50  \n18   DR-1  1932-03-22      844      roe      11.25  \n"
     ]
    }
   ],
   "source": [
    "# left_on, right_on에 전달하는 값은 여러개라도 상관없음\n",
    "ps_vs = ps.merge(vs, left_on=['ident','quant','taken'], right_on=['person','quant','ident'])\n",
    "print(ps_vs)"
   ]
  },
  {
   "cell_type": "code",
   "execution_count": 52,
   "metadata": {},
   "outputs": [
    {
     "output_type": "stream",
     "name": "stdout",
     "text": [
      "ident_x            dyer\npersonal        William\nfamily             Dyer\ntaken_x             619\nperson_x           dyer\nquant               rad\nreading_x          9.82\nident_y             619\nsite               DR-1\ndated        1927-02-08\ntaken_y             619\nperson_y           dyer\nreading_y          9.82\nName: 0, dtype: object\n"
     ]
    }
   ],
   "source": [
    "# 중복된 열을 _x(왼쪽), _y(오른쪽)으로 구분\n",
    "print(ps_vs.loc[0,])"
   ]
  }
 ]
}