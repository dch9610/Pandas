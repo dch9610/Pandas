{
 "metadata": {
  "language_info": {
   "codemirror_mode": {
    "name": "ipython",
    "version": 3
   },
   "file_extension": ".py",
   "mimetype": "text/x-python",
   "name": "python",
   "nbconvert_exporter": "python",
   "pygments_lexer": "ipython3",
   "version": "3.7.6-final"
  },
  "orig_nbformat": 2,
  "kernelspec": {
   "name": "python3",
   "display_name": "Python 3",
   "language": "python"
  }
 },
 "nbformat": 4,
 "nbformat_minor": 2,
 "cells": [
  {
   "source": [
    "## 09. 문자열 처리하기"
   ],
   "cell_type": "markdown",
   "metadata": {}
  },
  {
   "source": [
    "### 09-1 문자열 다루기"
   ],
   "cell_type": "markdown",
   "metadata": {}
  },
  {
   "cell_type": "code",
   "execution_count": 3,
   "metadata": {},
   "outputs": [
    {
     "output_type": "stream",
     "name": "stdout",
     "text": [
      "asrth\n"
     ]
    }
   ],
   "source": [
    "sent = 'a scratch'\n",
    "# 한칸씩 건너뛰며 추출\n",
    "print(sent[::2]) "
   ]
  },
  {
   "source": [
    "### 09-2 문자열 메서드\n",
    "- capitalize : 첫 문자를 대문자로 변환\n",
    "- count : 문자열의 개수를 반환\n",
    "- startswith : 문자열이 특정 문자로 시작하면 참이 됨\n",
    "- endswith : 문자열이 특정 문자로 끝나면 참이 됨\n",
    "- find : 찾은 문자열의 첫번째 인덱스를 반환함, 실패시 -1을 반환\n",
    "- index : find 메서드와 같은 역할을 수행하지만 실패시 ValueError를 반환\n",
    "- isalpha : 모든 문자가 알파벳이면 참\n",
    "- isdecimal : 모든 문자가 숫자면 참\n",
    "- isalnum: 모든 문자가 숫자이거나 알파벳이면 참 \n",
    "- lower : 모든 문자를 소문자로 변환\n",
    "- upper : 모든 문자를 대문자로 변환\n",
    "- replace : 문자열의 문자를 다른 문자로 교체\n",
    "- strip : 문자열의 맨앞과 맨 뒤에 있는 빈칸을 제거\n",
    "lower : 모든 문자를 소문자로 변환\n",
    "- upper : 모든 문자를 대문자로 변환\n",
    "- replace : 문자열의 문자를 다른 문자로 교체\n",
    "- strip : 문자열의 맨앞과 맨 뒤에 있는 빈칸을 제거\n",
    "- split : 구분자를 지정하여 문자열을 나누고, 나눈 값들의 리스트를 반환\n",
    "- partition : split 메서드와 비슷한 역할을 수행하지만 구분자도 반환\n",
    "- center : 지정한 너비로 문자열을 늘리고 문자열을 가운데 정렬\n",
    "- zfill : 문자열의 빈 칸을 '0'으로 채움"
   ],
   "cell_type": "markdown",
   "metadata": {}
  },
  {
   "cell_type": "code",
   "execution_count": 5,
   "metadata": {},
   "outputs": [
    {
     "output_type": "execute_result",
     "data": {
      "text/plain": [
       "'Black knight'"
      ]
     },
     "metadata": {},
     "execution_count": 5
    }
   ],
   "source": [
    "# capitalize : 첫 문자를 대문자로 변환\n",
    "\"black knight\".capitalize()"
   ]
  },
  {
   "cell_type": "code",
   "execution_count": 6,
   "metadata": {},
   "outputs": [
    {
     "output_type": "execute_result",
     "data": {
      "text/plain": [
       "2"
      ]
     },
     "metadata": {},
     "execution_count": 6
    }
   ],
   "source": [
    "# count : 문자열의 개수를 반환\n",
    "\"It's just a flesh wound!\".count('u')"
   ]
  },
  {
   "cell_type": "code",
   "execution_count": 7,
   "metadata": {},
   "outputs": [
    {
     "output_type": "execute_result",
     "data": {
      "text/plain": [
       "True"
      ]
     },
     "metadata": {},
     "execution_count": 7
    }
   ],
   "source": [
    "# startswith : 문자열이 특정 문자로 시작하면 참이 됨\n",
    "'Halt! Who goes!'.startswith('Halt')"
   ]
  },
  {
   "cell_type": "code",
   "execution_count": 11,
   "metadata": {},
   "outputs": [
    {
     "output_type": "execute_result",
     "data": {
      "text/plain": [
       "True"
      ]
     },
     "metadata": {},
     "execution_count": 11
    }
   ],
   "source": [
    "# endswith : 문자열이 특정 문자로 끝나면 참이 됨\n",
    "'Halt! Who goes!'.endswith('goes!')"
   ]
  },
  {
   "cell_type": "code",
   "execution_count": 17,
   "metadata": {},
   "outputs": [
    {
     "output_type": "stream",
     "name": "stdout",
     "text": [
      "6\n-1\n"
     ]
    }
   ],
   "source": [
    "# find : 찾은 문자열의 첫번째 인덱스를 반환함, 실패시 -1을 반환\n",
    "print(\"It's just a flesh wound!\".find('u'))\n",
    "print(\"It's just a flesh wound!\".find('q'))"
   ]
  },
  {
   "cell_type": "code",
   "execution_count": 18,
   "metadata": {},
   "outputs": [
    {
     "output_type": "stream",
     "name": "stdout",
     "text": [
      "6\n"
     ]
    },
    {
     "output_type": "error",
     "ename": "ValueError",
     "evalue": "substring not found",
     "traceback": [
      "\u001b[1;31m---------------------------------------------------------------------------\u001b[0m",
      "\u001b[1;31mValueError\u001b[0m                                Traceback (most recent call last)",
      "\u001b[1;32m<ipython-input-18-499dbc5efe25>\u001b[0m in \u001b[0;36m<module>\u001b[1;34m\u001b[0m\n\u001b[0;32m      1\u001b[0m \u001b[1;31m# index : find 메서드와 같은 역할을 수행하지만 실패시 ValueError를 반환\u001b[0m\u001b[1;33m\u001b[0m\u001b[1;33m\u001b[0m\u001b[1;33m\u001b[0m\u001b[0m\n\u001b[0;32m      2\u001b[0m \u001b[0mprint\u001b[0m\u001b[1;33m(\u001b[0m\u001b[1;34m\"It's just a flesh wound!\"\u001b[0m\u001b[1;33m.\u001b[0m\u001b[0mindex\u001b[0m\u001b[1;33m(\u001b[0m\u001b[1;34m'u'\u001b[0m\u001b[1;33m)\u001b[0m\u001b[1;33m)\u001b[0m\u001b[1;33m\u001b[0m\u001b[1;33m\u001b[0m\u001b[0m\n\u001b[1;32m----> 3\u001b[1;33m \u001b[0mprint\u001b[0m\u001b[1;33m(\u001b[0m\u001b[1;34m\"It's just a flesh wound!\"\u001b[0m\u001b[1;33m.\u001b[0m\u001b[0mindex\u001b[0m\u001b[1;33m(\u001b[0m\u001b[1;34m'q'\u001b[0m\u001b[1;33m)\u001b[0m\u001b[1;33m)\u001b[0m\u001b[1;33m\u001b[0m\u001b[1;33m\u001b[0m\u001b[0m\n\u001b[0m",
      "\u001b[1;31mValueError\u001b[0m: substring not found"
     ]
    }
   ],
   "source": [
    "# index : find 메서드와 같은 역할을 수행하지만 실패시 ValueError를 반환\n",
    "print(\"It's just a flesh wound!\".index('u'))\n",
    "print(\"It's just a flesh wound!\".index('q'))"
   ]
  },
  {
   "cell_type": "code",
   "execution_count": 19,
   "metadata": {},
   "outputs": [
    {
     "output_type": "execute_result",
     "data": {
      "text/plain": [
       "'   nine   '"
      ]
     },
     "metadata": {},
     "execution_count": 19
    }
   ],
   "source": [
    "# center : 지정한 너비로 문자열을 늘리고 문자열을 가운데 정렬\n",
    "\"nine\".center(10)"
   ]
  },
  {
   "cell_type": "code",
   "execution_count": 25,
   "metadata": {},
   "outputs": [
    {
     "output_type": "execute_result",
     "data": {
      "text/plain": [
       "'09'"
      ]
     },
     "metadata": {},
     "execution_count": 25
    }
   ],
   "source": [
    "# zfill : 문자열의 빈 칸을 '0'으로 채움\n",
    "\"9\".zfill(2)"
   ]
  },
  {
   "source": [
    "#### 1. join 메서드\n",
    "- 문자열을 연결하여 새로운 문자열을 반환하는 메서드"
   ],
   "cell_type": "markdown",
   "metadata": {}
  },
  {
   "cell_type": "code",
   "execution_count": 28,
   "metadata": {},
   "outputs": [
    {
     "output_type": "stream",
     "name": "stdout",
     "text": [
      "40,살,인가요?,아니요\n"
     ]
    }
   ],
   "source": [
    "d1 = '40'\n",
    "m1 = '살'\n",
    "s1 = '인가요?'\n",
    "u1 = '아니요'\n",
    "\n",
    "# ' ' 여기에는 join을 할때 해당 문자를 단어 사이에 넣어 연결해줌\n",
    "coords = ','.join([d1,m1,s1,u1])\n",
    "print(coords)"
   ]
  },
  {
   "source": [
    "#### 2. splitliness 메서드\n",
    "- 여러 행을 가진 문자열을 분리한 리스트로 반환"
   ],
   "cell_type": "markdown",
   "metadata": {}
  },
  {
   "cell_type": "code",
   "execution_count": 29,
   "metadata": {},
   "outputs": [
    {
     "output_type": "stream",
     "name": "stdout",
     "text": [
      "Hello\nHi\nPython\nDjango\n"
     ]
    }
   ],
   "source": [
    "multi_str = \"\"\"Hello\n",
    "Hi\n",
    "Python\n",
    "Django\"\"\"\n",
    "print(multi_str)"
   ]
  },
  {
   "cell_type": "code",
   "execution_count": 32,
   "metadata": {},
   "outputs": [
    {
     "output_type": "stream",
     "name": "stdout",
     "text": [
      "['Hello', 'Hi', 'Python', 'Django']\n['Hello', 'Python']\n"
     ]
    }
   ],
   "source": [
    "multi_str_splite = multi_str.splitlines()\n",
    "print(multi_str_splite)\n",
    "# 특정 문자열 추출가능\n",
    "print(multi_str_splite[::2])"
   ]
  },
  {
   "source": [
    "### 09-3 문자열 포매팅\n",
    "- 문자열을 편리하게 출력할 수 있게 해주는 기능"
   ],
   "cell_type": "markdown",
   "metadata": {}
  },
  {
   "cell_type": "code",
   "execution_count": 34,
   "metadata": {},
   "outputs": [
    {
     "output_type": "stream",
     "name": "stdout",
     "text": [
      "It's just a flesh wound!\nIt's just a scratch!\n"
     ]
    }
   ],
   "source": [
    "var = 'flesh wound'\n",
    "s = \"It's just a {}!\"\n",
    "\n",
    "print(s.format(var))\n",
    "\n",
    "print(s.format('scratch'))"
   ]
  },
  {
   "cell_type": "code",
   "execution_count": 35,
   "metadata": {},
   "outputs": [
    {
     "output_type": "stream",
     "name": "stdout",
     "text": [
      "Some digits of pie 3.14158\n"
     ]
    }
   ],
   "source": [
    "# 숫자 데이터 포매팅 하기\n",
    "print(\"Some digits of pie {}\".format(3.14158))"
   ]
  },
  {
   "cell_type": "code",
   "execution_count": 37,
   "metadata": {},
   "outputs": [
    {
     "output_type": "stream",
     "name": "stdout",
     "text": [
      "In 2021, Hi 67,890\n"
     ]
    }
   ],
   "source": [
    "# 플레이스 홀더에 :,를 넣으면 쉼표를 넣어 숫자로 표현\n",
    "print(\"In 2021, Hi {:,}\".format(67890))"
   ]
  },
  {
   "cell_type": "code",
   "execution_count": 43,
   "metadata": {},
   "outputs": [
    {
     "output_type": "stream",
     "name": "stdout",
     "text": [
      "I rember 0.000103 or 0.0103% of ...\n"
     ]
    }
   ],
   "source": [
    "# {:.숫자} : 소수점 마지막 부분에 나타날 개수 \n",
    "# {0:.숫자%} : 결괏값을 백분율로 환산\n",
    "print(\"I rember {0:.3} or {0:.4%} of ...\".format(7/67890))"
   ]
  },
  {
   "source": [
    "### 09-4 정규식으로 문자열 처리하기\n",
    "- 정규식 실습 사이트 (http://regex101.com)\n",
    "- 수만 개의 문자열 중에서 내가 원하는 패턴의 문자열만 추출하기 위한 방법\n"
   ],
   "cell_type": "markdown",
   "metadata": {}
  },
  {
   "source": [
    "## 기본 정규식 문법\n",
    "\n",
    "# - . | (.a) : 문자(a) 앞에 문자 1개가 패턴을 찾음\n",
    "# - ^ | (^I like) : 문자열의 처음부터 일치하는 패턴을 찾음\n",
    "# - $ | (on$) : 문자열의 끝부분부터 일치하는 패턴을 찾음\n",
    "# - * | (n\\d*) : n 이후 숫자(\\d)가 0개 이상인 패턴을 찾음\n",
    "# - + | (n\\d+) : n 이후 숫자(\\d)가 1개 이상인 패턴을 찾음\n",
    "# - ? | (apple?) : ?의 앞의 문자(e)가 있거나 없는 패턴을 찾음\n",
    "# - {m} | (n\\d{2}) : n이후 숫자(\\d)가 2개인({2}) 패턴을 찾음\n",
    "# - {m, n} | (n\\d{2,4}) : n이후 숫자(\\d)가 2개({2})이상, 4개 이하인 패턴을 찾음\n",
    "# - \\ | (\\*. \\?, \\+) : *, ?, + 와 같은 특수 문자를 검색할 때 이스케이프 문자(\\) 사용\n",
    "# - [] | ([cfh]all) : c,f,h 중 1개를 포함하고 나머지 문자열이 all인 패턴을 찾음\n",
    "# - | | (apple | application) : apple이나 application 중 하나만 있는 패턴을 찾음 (or연산)\n",
    "# - {m, n} | (n\\d{2,4}) : n이후 숫자(\\d)가 2개({2})이상, 4개 이하인 패턴을 찾음\n",
    "# - \\ | (\\*. \\?, \\+) : *, ?, + 와 같은 특수 문자를 검색할 때 이스케이프 문자(\\) 사용\n",
    "# - [] | ([cfh]all) : c,f,h 중 1개를 포함하고 나머지 문자열이 all인 패턴을 찾음\n",
    "# - | | (apple | application) : apple이나 application 중 하나만 있는 패턴을 찾음 (or연산)\n",
    "# - () | ((\\d+)-(\\d+)-(\\d+)) : ()에 지정한 패턴을 찾을 때 사용\n",
    "\n"
   ],
   "cell_type": "code",
   "metadata": {},
   "execution_count": null,
   "outputs": []
  },
  {
   "source": [
    "## 정규식 특수 문자\n",
    "# - \\d : 숫자 1개를 의미 ([0-9]와 동일)\n",
    "# - \\D : 숫자 이외의 문자 1개를 의미 ([^0-9]와 동일)\n",
    "# - \\s : 공백이나 탭 1개를 의미\n",
    "# - \\S : 공백 문자 이외의 문자 1개를 의\n",
    "# - \\w : 알파벳 1개를 의미\n",
    "# - \\W : 알파벳 이외의 문자 1개를 의미 (한국, 중국어 등)"
   ],
   "cell_type": "code",
   "metadata": {},
   "execution_count": null,
   "outputs": []
  },
  {
   "source": [
    "## 정규식 메서드\n",
    "# - p.199 확인"
   ],
   "cell_type": "code",
   "metadata": {},
   "execution_count": null,
   "outputs": []
  },
  {
   "source": [
    "### 정규식으로 전화번호 패턴찾기"
   ],
   "cell_type": "markdown",
   "metadata": {}
  },
  {
   "cell_type": "code",
   "execution_count": 47,
   "metadata": {},
   "outputs": [],
   "source": [
    "import re"
   ]
  },
  {
   "cell_type": "code",
   "execution_count": 48,
   "metadata": {},
   "outputs": [],
   "source": [
    "tele_num = '1234567890'"
   ]
  },
  {
   "cell_type": "code",
   "execution_count": 57,
   "metadata": {},
   "outputs": [
    {
     "output_type": "stream",
     "name": "stdout",
     "text": [
      "<class 're.Match'>\n<re.Match object; span=(0, 10), match='1234567890'>\n<class 're.Match'>\n<re.Match object; span=(0, 10), match='1234567890'>\n"
     ]
    }
   ],
   "source": [
    "# match 메서드를 사용하여 길이가 10인 숫자를 확인\n",
    "# pattern 인자에는 10개의 숫자를 의미하는 10개의 \\d\n",
    "# string에는 확인할 문자열 데이터 입력\n",
    "# 패턴을 찾으면 Match 오브젝트를 반환\n",
    "# span에는 찾은 패턴의 인덱스가, match에는 찾은 패턴의 문자열이 출력\n",
    "\n",
    "\n",
    "m = re.match(pattern='\\d\\d\\d\\d\\d\\d\\d\\d\\d\\d', string=tele_num)\n",
    "print(type(m))\n",
    "print(m)\n",
    "\n",
    "m1 = re.match(pattern='\\d{10}', string=tele_num)\n",
    "print(type(m1))\n",
    "print(m1)"
   ]
  },
  {
   "cell_type": "code",
   "execution_count": 53,
   "metadata": {},
   "outputs": [
    {
     "output_type": "stream",
     "name": "stdout",
     "text": [
      "True\n"
     ]
    }
   ],
   "source": [
    "print(bool(m))"
   ]
  },
  {
   "cell_type": "code",
   "execution_count": 55,
   "metadata": {},
   "outputs": [
    {
     "output_type": "stream",
     "name": "stdout",
     "text": [
      "0\n10\n(0, 10)\n1234567890\n"
     ]
    }
   ],
   "source": [
    "# 패턴의 정보를 확인 할 수 있는 다양한 메서드\n",
    "print(m.start())\n",
    "print(m.end())\n",
    "print(m.span()) # 찾은 패턴의 첫번째와 마지막 인덱스를 반환\n",
    "print(m.group()) # 찾아낸 패턴을 반환"
   ]
  },
  {
   "cell_type": "code",
   "execution_count": 56,
   "metadata": {},
   "outputs": [
    {
     "output_type": "stream",
     "name": "stdout",
     "text": [
      "None\n"
     ]
    }
   ],
   "source": [
    "tele_num_spaces = '123 456 7890'\n",
    "m = re.match(pattern='\\d{10}', string=tele_num_spaces)\n",
    "print(m)"
   ]
  },
  {
   "cell_type": "code",
   "execution_count": 63,
   "metadata": {},
   "outputs": [
    {
     "output_type": "stream",
     "name": "stdout",
     "text": [
      "<re.Match object; span=(0, 12), match='123 456 7890'>\n"
     ]
    }
   ],
   "source": [
    "# \\s : 탭이나 공백 1개를 의미\n",
    "\n",
    "p ='\\d{3}\\s\\d{3}\\s\\d{4}'\n",
    "m = re.match(pattern=p, string=tele_num_spaces)\n",
    "print(m)"
   ]
  },
  {
   "cell_type": "code",
   "execution_count": 66,
   "metadata": {},
   "outputs": [
    {
     "output_type": "stream",
     "name": "stdout",
     "text": [
      "<re.Match object; span=(0, 14), match='(123) 456-7890'>\n"
     ]
    }
   ],
   "source": [
    "tele_num_spaces_dash = '(123) 456-7890'\n",
    "\n",
    "# )? : ?앞에 ) 있는지 확인\n",
    "# \\ : 특수문자 검색할때 사용\n",
    "p = '\\(?\\d{3}\\)?\\s?\\d{3}?-?\\d{4}'\n",
    "m = re.match(pattern= p, string=tele_num_spaces_dash)\n",
    "print(m)"
   ]
  },
  {
   "cell_type": "code",
   "execution_count": 70,
   "metadata": {},
   "outputs": [
    {
     "output_type": "stream",
     "name": "stdout",
     "text": [
      "<re.Match object; span=(0, 17), match='+1 (123) 456-7890'>\n"
     ]
    }
   ],
   "source": [
    "cnty_tele_num_spaces_dash = '+1 (123) 456-7890'\n",
    "\n",
    "p = '\\+?\\d{1}\\s?\\(?\\d{3}\\)?\\s?\\d{3}?-?\\d{4}'\n",
    "m = re.match(pattern= p, string = cnty_tele_num_spaces_dash)\n",
    "print(m)"
   ]
  }
 ]
}