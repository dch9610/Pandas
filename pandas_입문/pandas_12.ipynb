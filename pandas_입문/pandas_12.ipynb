{
 "metadata": {
  "language_info": {
   "codemirror_mode": {
    "name": "ipython",
    "version": 3
   },
   "file_extension": ".py",
   "mimetype": "text/x-python",
   "name": "python",
   "nbconvert_exporter": "python",
   "pygments_lexer": "ipython3",
   "version": "3.8.5-final"
  },
  "orig_nbformat": 2,
  "kernelspec": {
   "name": "python3",
   "display_name": "Python 3",
   "language": "python"
  }
 },
 "nbformat": 4,
 "nbformat_minor": 2,
 "cells": [
  {
   "source": [
    "## 그룹연산\n",
    "- 데이터를 집계하거나 변환하는 등의 작업을 한번에 처리\n",
    "- 분할-반영-결합 => (split-apply-combine)"
   ],
   "cell_type": "markdown",
   "metadata": {}
  },
  {
   "source": [
    "## 11-1 데이터 집계하기 -groupby 메서드"
   ],
   "cell_type": "markdown",
   "metadata": {}
  },
  {
   "cell_type": "code",
   "execution_count": 2,
   "metadata": {},
   "outputs": [],
   "source": [
    "import pandas as pd\n",
    "import numpy as np\n",
    "import seaborn as sns"
   ]
  },
  {
   "cell_type": "code",
   "execution_count": 3,
   "metadata": {},
   "outputs": [
    {
     "output_type": "execute_result",
     "data": {
      "text/plain": [
       "          country continent  year  lifeExp       pop   gdpPercap\n",
       "0     Afghanistan      Asia  1952   28.801   8425333  779.445314\n",
       "1     Afghanistan      Asia  1957   30.332   9240934  820.853030\n",
       "2     Afghanistan      Asia  1962   31.997  10267083  853.100710\n",
       "3     Afghanistan      Asia  1967   34.020  11537966  836.197138\n",
       "4     Afghanistan      Asia  1972   36.088  13079460  739.981106\n",
       "...           ...       ...   ...      ...       ...         ...\n",
       "1699     Zimbabwe    Africa  1987   62.351   9216418  706.157306\n",
       "1700     Zimbabwe    Africa  1992   60.377  10704340  693.420786\n",
       "1701     Zimbabwe    Africa  1997   46.809  11404948  792.449960\n",
       "1702     Zimbabwe    Africa  2002   39.989  11926563  672.038623\n",
       "1703     Zimbabwe    Africa  2007   43.487  12311143  469.709298\n",
       "\n",
       "[1704 rows x 6 columns]"
      ],
      "text/html": "<div>\n<style scoped>\n    .dataframe tbody tr th:only-of-type {\n        vertical-align: middle;\n    }\n\n    .dataframe tbody tr th {\n        vertical-align: top;\n    }\n\n    .dataframe thead th {\n        text-align: right;\n    }\n</style>\n<table border=\"1\" class=\"dataframe\">\n  <thead>\n    <tr style=\"text-align: right;\">\n      <th></th>\n      <th>country</th>\n      <th>continent</th>\n      <th>year</th>\n      <th>lifeExp</th>\n      <th>pop</th>\n      <th>gdpPercap</th>\n    </tr>\n  </thead>\n  <tbody>\n    <tr>\n      <th>0</th>\n      <td>Afghanistan</td>\n      <td>Asia</td>\n      <td>1952</td>\n      <td>28.801</td>\n      <td>8425333</td>\n      <td>779.445314</td>\n    </tr>\n    <tr>\n      <th>1</th>\n      <td>Afghanistan</td>\n      <td>Asia</td>\n      <td>1957</td>\n      <td>30.332</td>\n      <td>9240934</td>\n      <td>820.853030</td>\n    </tr>\n    <tr>\n      <th>2</th>\n      <td>Afghanistan</td>\n      <td>Asia</td>\n      <td>1962</td>\n      <td>31.997</td>\n      <td>10267083</td>\n      <td>853.100710</td>\n    </tr>\n    <tr>\n      <th>3</th>\n      <td>Afghanistan</td>\n      <td>Asia</td>\n      <td>1967</td>\n      <td>34.020</td>\n      <td>11537966</td>\n      <td>836.197138</td>\n    </tr>\n    <tr>\n      <th>4</th>\n      <td>Afghanistan</td>\n      <td>Asia</td>\n      <td>1972</td>\n      <td>36.088</td>\n      <td>13079460</td>\n      <td>739.981106</td>\n    </tr>\n    <tr>\n      <th>...</th>\n      <td>...</td>\n      <td>...</td>\n      <td>...</td>\n      <td>...</td>\n      <td>...</td>\n      <td>...</td>\n    </tr>\n    <tr>\n      <th>1699</th>\n      <td>Zimbabwe</td>\n      <td>Africa</td>\n      <td>1987</td>\n      <td>62.351</td>\n      <td>9216418</td>\n      <td>706.157306</td>\n    </tr>\n    <tr>\n      <th>1700</th>\n      <td>Zimbabwe</td>\n      <td>Africa</td>\n      <td>1992</td>\n      <td>60.377</td>\n      <td>10704340</td>\n      <td>693.420786</td>\n    </tr>\n    <tr>\n      <th>1701</th>\n      <td>Zimbabwe</td>\n      <td>Africa</td>\n      <td>1997</td>\n      <td>46.809</td>\n      <td>11404948</td>\n      <td>792.449960</td>\n    </tr>\n    <tr>\n      <th>1702</th>\n      <td>Zimbabwe</td>\n      <td>Africa</td>\n      <td>2002</td>\n      <td>39.989</td>\n      <td>11926563</td>\n      <td>672.038623</td>\n    </tr>\n    <tr>\n      <th>1703</th>\n      <td>Zimbabwe</td>\n      <td>Africa</td>\n      <td>2007</td>\n      <td>43.487</td>\n      <td>12311143</td>\n      <td>469.709298</td>\n    </tr>\n  </tbody>\n</table>\n<p>1704 rows × 6 columns</p>\n</div>"
     },
     "metadata": {},
     "execution_count": 3
    }
   ],
   "source": [
    "# 데이터 불러오기\n",
    "df = pd.read_csv('data/gapminder.tsv', sep='\\t')\n",
    "df"
   ]
  },
  {
   "cell_type": "code",
   "execution_count": 4,
   "metadata": {},
   "outputs": [
    {
     "output_type": "stream",
     "name": "stdout",
     "text": [
      "year\n1952    49.057620\n1957    51.507401\n1962    53.609249\n1967    55.678290\n1972    57.647386\n1977    59.570157\n1982    61.533197\n1987    63.212613\n1992    64.160338\n1997    65.014676\n2002    65.694923\n2007    67.007423\nName: lifeExp, dtype: float64\n"
     ]
    }
   ],
   "source": [
    "# year 열을 기준으로 데이터를 그룹화한 다음 lifeExp 열의 평균 구하기\n",
    "avg_life_exp_by_year = df.groupby('year')['lifeExp'].mean()\n",
    "print(avg_life_exp_by_year)"
   ]
  },
  {
   "source": [
    "### 분할-반영-결합 과정 살펴보기"
   ],
   "cell_type": "markdown",
   "metadata": {}
  },
  {
   "cell_type": "code",
   "execution_count": 5,
   "metadata": {},
   "outputs": [
    {
     "output_type": "stream",
     "name": "stdout",
     "text": [
      "[1952 1957 1962 1967 1972 1977 1982 1987 1992 1997 2002 2007]\n"
     ]
    }
   ],
   "source": [
    "# year 열의 데이터를 중복 없이 추출 => '분할'\n",
    "# groupby 메서드에 열 이름을 전달하면 '분할' 작업이 먼저 일어남\n",
    "years = df['year'].unique()\n",
    "print(years)"
   ]
  },
  {
   "cell_type": "code",
   "execution_count": 6,
   "metadata": {},
   "outputs": [
    {
     "output_type": "stream",
     "name": "stdout",
     "text": [
      "        country continent  year  lifeExp       pop    gdpPercap\n0   Afghanistan      Asia  1952   28.801   8425333   779.445314\n12      Albania    Europe  1952   55.230   1282697  1601.056136\n24      Algeria    Africa  1952   43.077   9279525  2449.008185\n36       Angola    Africa  1952   30.015   4232095  3520.610273\n48    Argentina  Americas  1952   62.485  17876956  5911.315053\n"
     ]
    }
   ],
   "source": [
    "# 연도별로 데이터를 추출 => '반영'\n",
    "y1952 = df.loc[df['year'] == 1952]\n",
    "print(y1952.head())"
   ]
  },
  {
   "cell_type": "code",
   "execution_count": 7,
   "metadata": {},
   "outputs": [
    {
     "output_type": "stream",
     "name": "stdout",
     "text": [
      "49.05761971830987\n"
     ]
    }
   ],
   "source": [
    "# lifeExp 열의 평균값 구하기 => '반영'\n",
    "y1952_mean = y1952['lifeExp'].mean()\n",
    "print(y1952_mean)"
   ]
  },
  {
   "cell_type": "code",
   "execution_count": 8,
   "metadata": {},
   "outputs": [],
   "source": [
    "# 반영 부분을 반복하여 마지막에 데이터프레임 형태로'결합'을 함"
   ]
  },
  {
   "source": [
    "### groupby 메서드와 함께 사용하는 집계 메서드\n",
    "- count : 누락값을 제외한 데이터 수를 반환\n",
    "- size  : 누락값을 포함한 데이터 수를 반환\n",
    "- mean  : 평균값 반환\n",
    "- std   : 표준편차 반환\n",
    "- max   : 최댓값 반환\n",
    "- min   : 최솟값 반환\n",
    "- sum   : 전체 합 반환\n",
    "- var   : 분산 반환\n",
    "- sem   : 평균의 표준편차 반환\n",
    "- describe : 데이터 수, 평균, 표준 편차, 최소값, 백분위수(25,50,75), 최댓값을 모두 반환\n",
    "- first : 첫번째 행 반환\n",
    "- last  : 마지막 행 반환\n",
    "- nth   : n번째 행 반환\n",
    "- quantile(q=?) : 백분위수 (?)% "
   ],
   "cell_type": "markdown",
   "metadata": {}
  },
  {
   "source": [
    "### agg 메서드로 사용자 함수와 groupby 메서드 조합하기"
   ],
   "cell_type": "markdown",
   "metadata": {}
  },
  {
   "cell_type": "code",
   "execution_count": 11,
   "metadata": {},
   "outputs": [],
   "source": [
    "# 평균값을 구하는 함수 만들기\n",
    "def my_mean(values):\n",
    "    n = len(values)\n",
    "    sum = 0\n",
    "    for value in values:\n",
    "        sum += value\n",
    "    return sum / n"
   ]
  },
  {
   "cell_type": "code",
   "execution_count": 12,
   "metadata": {},
   "outputs": [
    {
     "output_type": "stream",
     "name": "stdout",
     "text": [
      "year\n1952    49.057620\n1957    51.507401\n1962    53.609249\n1967    55.678290\n1972    57.647386\n1977    59.570157\n1982    61.533197\n1987    63.212613\n1992    64.160338\n1997    65.014676\n2002    65.694923\n2007    67.007423\nName: lifeExp, dtype: float64\n"
     ]
    }
   ],
   "source": [
    "# 함수 적용시 컬럼의 값을 시리즈 타입으로 각 행씩 출력\n",
    "# 사용자 정의 함수와 groupby 메서드를 조합하기 위해 agg 메서드 사용\n",
    "agg_my_mean = df.groupby('year')['lifeExp'].agg(my_mean)\n",
    "print(agg_my_mean)"
   ]
  },
  {
   "cell_type": "code",
   "execution_count": 13,
   "metadata": {},
   "outputs": [],
   "source": [
    "# 2개의 인잣값을 받아 처리하는 사용자함수 만들기\n",
    "# 첫번쨰 인자로 받은 열의 평균값을 구하여, 두번째 인자로 받은 값과의 차이를 계산한 다음 반환하는 함수\n",
    "def my_mean_diff(values, diff_value):\n",
    "    n = len(values)\n",
    "    sum = 0\n",
    "    for value in values:\n",
    "        sum +=  value\n",
    "    mean = sum / n\n",
    "    return mean - diff_value"
   ]
  },
  {
   "cell_type": "code",
   "execution_count": 14,
   "metadata": {},
   "outputs": [
    {
     "output_type": "stream",
     "name": "stdout",
     "text": [
      "59.47443936619713\nyear\n1952   -10.416820\n1957    -7.967038\n1962    -5.865190\n1967    -3.796150\n1972    -1.827053\n1977     0.095718\n1982     2.058758\n1987     3.738173\n1992     4.685899\n1997     5.540237\n2002     6.220483\n2007     7.532983\nName: lifeExp, dtype: float64\n"
     ]
    }
   ],
   "source": [
    "# 연도별 평균 수명에서 전체 평균 수명을 뺀 값을 구함\n",
    "global_mean = df['lifeExp'].mean()\n",
    "print(global_mean)\n",
    "\n",
    "agg_mean_diff = df.groupby('year')['lifeExp'].agg(my_mean_diff, diff_value=global_mean)\n",
    "print(agg_mean_diff)"
   ]
  },
  {
   "cell_type": "code",
   "execution_count": 15,
   "metadata": {},
   "outputs": [
    {
     "output_type": "stream",
     "name": "stdout",
     "text": [
      "      count_nonzero       mean        std\nyear                                     \n1952          142.0  49.057620  12.225956\n1957          142.0  51.507401  12.231286\n1962          142.0  53.609249  12.097245\n1967          142.0  55.678290  11.718858\n1972          142.0  57.647386  11.381953\n1977          142.0  59.570157  11.227229\n1982          142.0  61.533197  10.770618\n1987          142.0  63.212613  10.556285\n1992          142.0  64.160338  11.227380\n1997          142.0  65.014676  11.559439\n2002          142.0  65.694923  12.279823\n2007          142.0  67.007423  12.073021\n"
     ]
    }
   ],
   "source": [
    "# 여러개의 집계 메서드 한번에 사용하기 (함수 적용시 시리즈 형태로 출력되기 때문에 np사용)\n",
    "gdf = df.groupby('year')['lifeExp'].agg([np.count_nonzero, np.mean,np.std])\n",
    "print(gdf)\n"
   ]
  },
  {
   "source": [
    "## 11-2 데이터 변환\n",
    "- 데이터 변환 메서드는 데이터와 메서드를 일대일로 대응시켜 계산하기 때문에 데이터 양은 줄어들지 않음"
   ],
   "cell_type": "markdown",
   "metadata": {}
  },
  {
   "cell_type": "code",
   "execution_count": 16,
   "metadata": {},
   "outputs": [],
   "source": [
    "# 표준점수 계산하기 (데이터의 평균 - 표준편차)\n",
    "def my_zscore(x):\n",
    "    return (x-x.mean()) / x.std()"
   ]
  },
  {
   "cell_type": "code",
   "execution_count": 17,
   "metadata": {},
   "outputs": [
    {
     "output_type": "stream",
     "name": "stdout",
     "text": [
      "0   -1.656854\n1   -1.731249\n2   -1.786543\n3   -1.848157\n4   -1.894173\nName: lifeExp, dtype: float64\n"
     ]
    }
   ],
   "source": [
    "# transform 메서드 적용\n",
    "transform_z = df.groupby('year')['lifeExp'].transform(my_zscore)\n",
    "print(transform_z.head())"
   ]
  },
  {
   "cell_type": "code",
   "execution_count": 18,
   "metadata": {},
   "outputs": [
    {
     "output_type": "stream",
     "name": "stdout",
     "text": [
      "     total_bill   tip     sex smoker   day    time  size\n24        19.82  3.18    Male     No   Sat  Dinner     2\n6          8.77  2.00    Male     No   Sun  Dinner     2\n153         NaN  2.00    Male     No   Sun  Dinner     4\n211         NaN  5.16    Male    Yes   Sat  Dinner     4\n198         NaN  2.00  Female    Yes  Thur   Lunch     2\n176         NaN  2.00    Male    Yes   Sun  Dinner     2\n192       28.44  2.56    Male    Yes  Thur   Lunch     2\n124       12.48  2.52  Female     No  Thur   Lunch     2\n9         14.78  3.23    Male     No   Sun  Dinner     2\n101       15.38  3.00  Female    Yes   Fri  Dinner     2\n"
     ]
    }
   ],
   "source": [
    "# 누락값을 평균값으로 처리하기\n",
    "\n",
    "# 똑같은 난수 생성을 원할때 사용\n",
    "np.random.seed(42)\n",
    "\n",
    "# tips 데이터 10개 가져오기\n",
    "tips_10 = sns.load_dataset('tips').sample(10)\n",
    "\n",
    "# total_bill 열의 값 4개를 임의로 선택하여 누락값으로 바꿈\n",
    "tips_10.loc[np.random.permutation(tips_10.index)[:4],'total_bill'] = np.NaN\n",
    "print(tips_10)"
   ]
  },
  {
   "cell_type": "code",
   "execution_count": 19,
   "metadata": {},
   "outputs": [
    {
     "output_type": "stream",
     "name": "stdout",
     "text": [
      "        total_bill  tip  smoker  day  time  size\nsex                                             \nMale             4    7       7    7     7     7\nFemale           2    3       3    3     3     3\n"
     ]
    }
   ],
   "source": [
    "# 열의 누락값을 채울때 단순히 열의 평균값으로 채우면 안됨\n",
    "# tips 데이터는 남성과 여성으로 나누어져있기 때문에 데이터를 살펴보고 해야함\n",
    "count_sex = tips_10.groupby('sex').count()\n",
    "print(count_sex)"
   ]
  },
  {
   "cell_type": "code",
   "execution_count": 20,
   "metadata": {},
   "outputs": [],
   "source": [
    "# 성별을 구분하여 total_bill 열의 데이터를 받아 평균값을 구하는 함수\n",
    "def fill_na_mean(x):\n",
    "    avg = x.mean()\n",
    "    return x.fillna(avg) #Nan값을 avg 값으로 바꿈"
   ]
  },
  {
   "cell_type": "code",
   "execution_count": 21,
   "metadata": {},
   "outputs": [
    {
     "output_type": "execute_result",
     "data": {
      "text/plain": [
       "sex\n",
       "Male      17.9525\n",
       "Female    13.9300\n",
       "Name: total_bill, dtype: float64"
      ]
     },
     "metadata": {},
     "execution_count": 21
    }
   ],
   "source": [
    "tips_10.groupby('sex')['total_bill'].mean()"
   ]
  },
  {
   "cell_type": "code",
   "execution_count": 22,
   "metadata": {},
   "outputs": [
    {
     "output_type": "stream",
     "name": "stdout",
     "text": [
      "     total_bill   tip     sex smoker   day    time  size  fill_total_bill\n24        19.82  3.18    Male     No   Sat  Dinner     2          19.8200\n6          8.77  2.00    Male     No   Sun  Dinner     2           8.7700\n153         NaN  2.00    Male     No   Sun  Dinner     4          17.9525\n211         NaN  5.16    Male    Yes   Sat  Dinner     4          17.9525\n198         NaN  2.00  Female    Yes  Thur   Lunch     2          13.9300\n176         NaN  2.00    Male    Yes   Sun  Dinner     2          17.9525\n192       28.44  2.56    Male    Yes  Thur   Lunch     2          28.4400\n124       12.48  2.52  Female     No  Thur   Lunch     2          12.4800\n9         14.78  3.23    Male     No   Sun  Dinner     2          14.7800\n101       15.38  3.00  Female    Yes   Fri  Dinner     2          15.3800\n"
     ]
    }
   ],
   "source": [
    "# total_bill 열의 데이터를 함수에 전달하여 평균값을 구한 다음 새로운 열에 추가\n",
    "# 남성의 Nan 값이 17.9525, 여성의 Nan 값이 13.93\n",
    "\n",
    "total_bill_group_mean = tips_10.groupby('sex')['total_bill'].transform(fill_na_mean)\n",
    "tips_10['fill_total_bill'] = total_bill_group_mean\n",
    "print(tips_10)"
   ]
  },
  {
   "source": [
    "## 11-3 데이터 필터링\n",
    "- 그룹화한 데이터에서 원하는 데이터를 걸러내고 싶을때 사용"
   ],
   "cell_type": "markdown",
   "metadata": {}
  },
  {
   "cell_type": "code",
   "execution_count": 23,
   "metadata": {},
   "outputs": [
    {
     "output_type": "stream",
     "name": "stdout",
     "text": [
      "(244, 7)\n     total_bill   tip     sex smoker   day    time  size\n0         16.99  1.01  Female     No   Sun  Dinner     2\n1         10.34  1.66    Male     No   Sun  Dinner     3\n2         21.01  3.50    Male     No   Sun  Dinner     3\n3         23.68  3.31    Male     No   Sun  Dinner     2\n4         24.59  3.61  Female     No   Sun  Dinner     4\n..          ...   ...     ...    ...   ...     ...   ...\n239       29.03  5.92    Male     No   Sat  Dinner     3\n240       27.18  2.00  Female    Yes   Sat  Dinner     2\n241       22.67  2.00    Male    Yes   Sat  Dinner     2\n242       17.82  1.75    Male     No   Sat  Dinner     2\n243       18.78  3.00  Female     No  Thur  Dinner     2\n\n[244 rows x 7 columns]\n"
     ]
    }
   ],
   "source": [
    "# 데이터 불러오기\n",
    "tips = sns.load_dataset('tips')\n",
    "print(tips.shape)\n",
    "print(tips)"
   ]
  },
  {
   "cell_type": "code",
   "execution_count": 24,
   "metadata": {},
   "outputs": [
    {
     "output_type": "stream",
     "name": "stdout",
     "text": [
      "2    156\n3     38\n4     37\n5      5\n6      4\n1      4\nName: size, dtype: int64\n"
     ]
    }
   ],
   "source": [
    "tips.groupby('size').count()\n",
    "print(tips['size'].value_counts())"
   ]
  },
  {
   "cell_type": "code",
   "execution_count": 25,
   "metadata": {},
   "outputs": [
    {
     "output_type": "stream",
     "name": "stdout",
     "text": [
      "     total_bill   tip     sex smoker   day    time  size\n0         16.99  1.01  Female     No   Sun  Dinner     2\n1         10.34  1.66    Male     No   Sun  Dinner     3\n2         21.01  3.50    Male     No   Sun  Dinner     3\n3         23.68  3.31    Male     No   Sun  Dinner     2\n4         24.59  3.61  Female     No   Sun  Dinner     4\n..          ...   ...     ...    ...   ...     ...   ...\n239       29.03  5.92    Male     No   Sat  Dinner     3\n240       27.18  2.00  Female    Yes   Sat  Dinner     2\n241       22.67  2.00    Male    Yes   Sat  Dinner     2\n242       17.82  1.75    Male     No   Sat  Dinner     2\n243       18.78  3.00  Female     No  Thur  Dinner     2\n\n[231 rows x 7 columns]\n2    156\n3     38\n4     37\nName: size, dtype: int64\n"
     ]
    }
   ],
   "source": [
    "# 30번 이상의 주문이 있는 테이블만 그룹화하여 변수에 저장\n",
    "tips_fillterd = tips.groupby('size').filter(lambda x: x['size'].count() >= 30)\n",
    "print(tips_fillterd)\n",
    "print(tips_fillterd['size'].value_counts())"
   ]
  },
  {
   "source": [
    "## 11-4 그룹 오브젝트"
   ],
   "cell_type": "markdown",
   "metadata": {}
  },
  {
   "cell_type": "code",
   "execution_count": 26,
   "metadata": {},
   "outputs": [
    {
     "output_type": "execute_result",
     "data": {
      "text/plain": [
       "     total_bill   tip     sex smoker   day    time  size\n",
       "24        19.82  3.18    Male     No   Sat  Dinner     2\n",
       "6          8.77  2.00    Male     No   Sun  Dinner     2\n",
       "153       24.55  2.00    Male     No   Sun  Dinner     4\n",
       "211       25.89  5.16    Male    Yes   Sat  Dinner     4\n",
       "198       13.00  2.00  Female    Yes  Thur   Lunch     2\n",
       "176       17.89  2.00    Male    Yes   Sun  Dinner     2\n",
       "192       28.44  2.56    Male    Yes  Thur   Lunch     2\n",
       "124       12.48  2.52  Female     No  Thur   Lunch     2\n",
       "9         14.78  3.23    Male     No   Sun  Dinner     2\n",
       "101       15.38  3.00  Female    Yes   Fri  Dinner     2"
      ],
      "text/html": "<div>\n<style scoped>\n    .dataframe tbody tr th:only-of-type {\n        vertical-align: middle;\n    }\n\n    .dataframe tbody tr th {\n        vertical-align: top;\n    }\n\n    .dataframe thead th {\n        text-align: right;\n    }\n</style>\n<table border=\"1\" class=\"dataframe\">\n  <thead>\n    <tr style=\"text-align: right;\">\n      <th></th>\n      <th>total_bill</th>\n      <th>tip</th>\n      <th>sex</th>\n      <th>smoker</th>\n      <th>day</th>\n      <th>time</th>\n      <th>size</th>\n    </tr>\n  </thead>\n  <tbody>\n    <tr>\n      <th>24</th>\n      <td>19.82</td>\n      <td>3.18</td>\n      <td>Male</td>\n      <td>No</td>\n      <td>Sat</td>\n      <td>Dinner</td>\n      <td>2</td>\n    </tr>\n    <tr>\n      <th>6</th>\n      <td>8.77</td>\n      <td>2.00</td>\n      <td>Male</td>\n      <td>No</td>\n      <td>Sun</td>\n      <td>Dinner</td>\n      <td>2</td>\n    </tr>\n    <tr>\n      <th>153</th>\n      <td>24.55</td>\n      <td>2.00</td>\n      <td>Male</td>\n      <td>No</td>\n      <td>Sun</td>\n      <td>Dinner</td>\n      <td>4</td>\n    </tr>\n    <tr>\n      <th>211</th>\n      <td>25.89</td>\n      <td>5.16</td>\n      <td>Male</td>\n      <td>Yes</td>\n      <td>Sat</td>\n      <td>Dinner</td>\n      <td>4</td>\n    </tr>\n    <tr>\n      <th>198</th>\n      <td>13.00</td>\n      <td>2.00</td>\n      <td>Female</td>\n      <td>Yes</td>\n      <td>Thur</td>\n      <td>Lunch</td>\n      <td>2</td>\n    </tr>\n    <tr>\n      <th>176</th>\n      <td>17.89</td>\n      <td>2.00</td>\n      <td>Male</td>\n      <td>Yes</td>\n      <td>Sun</td>\n      <td>Dinner</td>\n      <td>2</td>\n    </tr>\n    <tr>\n      <th>192</th>\n      <td>28.44</td>\n      <td>2.56</td>\n      <td>Male</td>\n      <td>Yes</td>\n      <td>Thur</td>\n      <td>Lunch</td>\n      <td>2</td>\n    </tr>\n    <tr>\n      <th>124</th>\n      <td>12.48</td>\n      <td>2.52</td>\n      <td>Female</td>\n      <td>No</td>\n      <td>Thur</td>\n      <td>Lunch</td>\n      <td>2</td>\n    </tr>\n    <tr>\n      <th>9</th>\n      <td>14.78</td>\n      <td>3.23</td>\n      <td>Male</td>\n      <td>No</td>\n      <td>Sun</td>\n      <td>Dinner</td>\n      <td>2</td>\n    </tr>\n    <tr>\n      <th>101</th>\n      <td>15.38</td>\n      <td>3.00</td>\n      <td>Female</td>\n      <td>Yes</td>\n      <td>Fri</td>\n      <td>Dinner</td>\n      <td>2</td>\n    </tr>\n  </tbody>\n</table>\n</div>"
     },
     "metadata": {},
     "execution_count": 26
    }
   ],
   "source": [
    "# 42번 seed에 있는 임의의 데이터 10개 불러오기\n",
    "tips_10 = sns.load_dataset('tips').sample(10, random_state=42)\n",
    "tips_10"
   ]
  },
  {
   "cell_type": "code",
   "execution_count": 27,
   "metadata": {},
   "outputs": [
    {
     "output_type": "stream",
     "name": "stdout",
     "text": [
      "<pandas.core.groupby.generic.DataFrameGroupBy object at 0x7fd5df6c78e0>\n"
     ]
    }
   ],
   "source": [
    "# groupby 메서드의 결괏값을 출력하면 자료형이 그룹 오브젝트라는 것을 확인\n",
    "grouped = tips_10.groupby('sex')\n",
    "print(grouped)"
   ]
  },
  {
   "cell_type": "code",
   "execution_count": 28,
   "metadata": {},
   "outputs": [
    {
     "output_type": "stream",
     "name": "stdout",
     "text": [
      "{'Male': [24, 6, 153, 211, 176, 192, 9], 'Female': [198, 124, 101]}\n"
     ]
    }
   ],
   "source": [
    "# 그룹 오브젝트에 포함된 그룹을 보려면 groups 속성을 출력\n",
    "# 특정 열로 그룹화한 데이터프레임의 인덱스를 확인\n",
    "print(grouped.groups)"
   ]
  },
  {
   "cell_type": "code",
   "execution_count": 29,
   "metadata": {},
   "outputs": [
    {
     "output_type": "stream",
     "name": "stdout",
     "text": [
      "        total_bill       tip      size\nsex                                   \nMale         20.02  2.875714  2.571429\nFemale       13.62  2.506667  2.000000\n"
     ]
    }
   ],
   "source": [
    "# 한번에 그룹 오브젝트 계산하기\n",
    "# 자동으로 계산할 수 있는 열을 골라줌\n",
    "avgs = grouped.mean()\n",
    "print(avgs)"
   ]
  },
  {
   "cell_type": "code",
   "execution_count": 30,
   "metadata": {},
   "outputs": [
    {
     "output_type": "stream",
     "name": "stdout",
     "text": [
      "     total_bill   tip     sex smoker   day    time  size\n198       13.00  2.00  Female    Yes  Thur   Lunch     2\n124       12.48  2.52  Female     No  Thur   Lunch     2\n101       15.38  3.00  Female    Yes   Fri  Dinner     2\n"
     ]
    }
   ],
   "source": [
    "# 그룹 오브젝트에서 특정 데이터만 추출하기 (get_group)\n",
    "female = grouped.get_group('Female')\n",
    "print(female)"
   ]
  },
  {
   "cell_type": "code",
   "execution_count": 31,
   "metadata": {},
   "outputs": [
    {
     "output_type": "stream",
     "name": "stdout",
     "text": [
      "('Male',      total_bill   tip   sex smoker   day    time  size\n24        19.82  3.18  Male     No   Sat  Dinner     2\n6          8.77  2.00  Male     No   Sun  Dinner     2\n153       24.55  2.00  Male     No   Sun  Dinner     4\n211       25.89  5.16  Male    Yes   Sat  Dinner     4\n176       17.89  2.00  Male    Yes   Sun  Dinner     2\n192       28.44  2.56  Male    Yes  Thur   Lunch     2\n9         14.78  3.23  Male     No   Sun  Dinner     2)\n('Female',      total_bill   tip     sex smoker   day    time  size\n198       13.00  2.00  Female    Yes  Thur   Lunch     2\n124       12.48  2.52  Female     No  Thur   Lunch     2\n101       15.38  3.00  Female    Yes   Fri  Dinner     2)\n"
     ]
    }
   ],
   "source": [
    "# 각 성별의 그룹을 출력 => 반복문 사용\n",
    "# 튜플의 형태로 값이 넘어옴\n",
    "\n",
    "for sex_group in grouped:\n",
    "    print(sex_group)"
   ]
  },
  {
   "source": [
    "### 여러 열을 사용해 그룹 오브젝트 만들고 계산하기"
   ],
   "cell_type": "markdown",
   "metadata": {}
  },
  {
   "cell_type": "code",
   "execution_count": 32,
   "metadata": {},
   "outputs": [
    {
     "output_type": "stream",
     "name": "stdout",
     "text": [
      "               total_bill       tip      size\nsex    time                                  \nMale   Lunch    28.440000  2.560000  2.000000\n       Dinner   18.616667  2.928333  2.666667\nFemale Lunch    12.740000  2.260000  2.000000\n       Dinner   15.380000  3.000000  2.000000\n"
     ]
    }
   ],
   "source": [
    "# 여러 열을 사용하여 데이터를 그룹화하려면 리스트에 열 이름을 담아 groupby 메서드에 전달\n",
    "bill_sex_time = tips_10.groupby(['sex','time'])\n",
    "group_avg = bill_sex_time.mean()\n",
    "print(group_avg)"
   ]
  },
  {
   "cell_type": "code",
   "execution_count": 33,
   "metadata": {},
   "outputs": [
    {
     "output_type": "stream",
     "name": "stdout",
     "text": [
      "<class 'pandas.core.frame.DataFrame'>\nIndex(['total_bill', 'tip', 'size'], dtype='object')\nMultiIndex([(  'Male',  'Lunch'),\n            (  'Male', 'Dinner'),\n            ('Female',  'Lunch'),\n            ('Female', 'Dinner')],\n           names=['sex', 'time'])\n"
     ]
    }
   ],
   "source": [
    "# 데이터 타입 확인하기\n",
    "print(type(group_avg)) # 데이터프레임\n",
    "print(group_avg.columns)\n",
    "print(group_avg.index)"
   ]
  },
  {
   "cell_type": "code",
   "execution_count": 34,
   "metadata": {},
   "outputs": [
    {
     "output_type": "stream",
     "name": "stdout",
     "text": [
      "      sex    time  total_bill       tip      size\n0    Male   Lunch   28.440000  2.560000  2.000000\n1    Male  Dinner   18.616667  2.928333  2.666667\n2  Female   Lunch   12.740000  2.260000  2.000000\n3  Female  Dinner   15.380000  3.000000  2.000000\n"
     ]
    }
   ],
   "source": [
    "# 데이터프레임의 인덱스가 멀티 인덱스인 경우에는 reset_index를 사용하여 인덱스를 새로 부여할수 있음\n",
    "group_method = tips_10.groupby(['sex','time']).mean().reset_index()\n",
    "print(group_method)"
   ]
  },
  {
   "cell_type": "code",
   "execution_count": 35,
   "metadata": {},
   "outputs": [
    {
     "output_type": "stream",
     "name": "stdout",
     "text": [
      "      sex    time  total_bill       tip      size\n0    Male   Lunch   28.440000  2.560000  2.000000\n1    Male  Dinner   18.616667  2.928333  2.666667\n2  Female   Lunch   12.740000  2.260000  2.000000\n3  Female  Dinner   15.380000  3.000000  2.000000\n"
     ]
    }
   ],
   "source": [
    "# 데이터프레임의 인덱스가 멀티 인덱스인 경우에는 reset_index 대신 as_index = False를 사용해도 됨\n",
    "group_method = tips_10.groupby(['sex','time'], as_index=False).mean()\n",
    "print(group_method)"
   ]
  }
 ]
}